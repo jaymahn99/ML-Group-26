{
 "cells": [
  {
   "cell_type": "markdown",
   "id": "62ac0963",
   "metadata": {},
   "source": [
    "# ML Assignment (should be a py file before delivery)"
   ]
  },
  {
   "cell_type": "markdown",
   "id": "a82e9f21",
   "metadata": {},
   "source": [
    "## Names\n",
    "### Jay Mahn\n",
    "###\n",
    "###\n",
    "###"
   ]
  },
  {
   "cell_type": "markdown",
   "id": "3d3894d6",
   "metadata": {},
   "source": [
    "# 1.0 Installing and loading the libraries"
   ]
  },
  {
   "cell_type": "code",
   "execution_count": 1,
   "id": "cf988d88",
   "metadata": {},
   "outputs": [],
   "source": [
    "# Pip install "
   ]
  },
  {
   "cell_type": "code",
   "execution_count": 2,
   "id": "6ebc2bba",
   "metadata": {},
   "outputs": [],
   "source": [
    "import numpy as np\n",
    "import pandas as pd \n",
    "\n",
    "#For standardizing\n",
    "from sklearn.preprocessing import StandardScaler\n",
    "\n",
    "# In case we want to split the Supplimental data\n",
    "from sklearn.model_selection import train_test_split"
   ]
  },
  {
   "cell_type": "markdown",
   "id": "b2f479b0",
   "metadata": {},
   "source": [
    "# 2.0 Loading the files"
   ]
  },
  {
   "cell_type": "markdown",
   "id": "bc5a4539",
   "metadata": {},
   "source": [
    "## Load the various files as Backup"
   ]
  },
  {
   "cell_type": "code",
   "execution_count": 3,
   "id": "eca531c6",
   "metadata": {},
   "outputs": [],
   "source": [
    "train_data_B = pd.read_csv(\"data/train_data.csv\")\n",
    "test_data_B = pd.read_csv(\"data/test_data.csv\")\n",
    "supplimental_data_B = pd.read_csv(\"data/supplimental_data.csv\")"
   ]
  },
  {
   "cell_type": "markdown",
   "id": "bb59d6ad",
   "metadata": {},
   "source": [
    "## Making a back-up for safety"
   ]
  },
  {
   "cell_type": "code",
   "execution_count": 4,
   "id": "8b53dce8",
   "metadata": {},
   "outputs": [],
   "source": [
    "train_data = train_data_B\n",
    "test_data = test_data_B\n",
    "supplimental_data = supplimental_data_B"
   ]
  },
  {
   "cell_type": "markdown",
   "id": "4b4b406a",
   "metadata": {},
   "source": [
    "# 3.0 EDA "
   ]
  },
  {
   "cell_type": "markdown",
   "id": "beb0644f",
   "metadata": {},
   "source": [
    "##  3.1 EDA - General info"
   ]
  },
  {
   "cell_type": "markdown",
   "id": "81eb485e",
   "metadata": {},
   "source": [
    "###  3.1.1 EDA - Train data"
   ]
  },
  {
   "cell_type": "code",
   "execution_count": 5,
   "id": "5b74fd08",
   "metadata": {},
   "outputs": [
    {
     "name": "stdout",
     "output_type": "stream",
     "text": [
      "<class 'pandas.core.frame.DataFrame'>\n",
      "RangeIndex: 134420 entries, 0 to 134419\n",
      "Data columns (total 10 columns):\n",
      " #   Column                  Non-Null Count   Dtype  \n",
      "---  ------                  --------------   -----  \n",
      " 0   UserID                  134420 non-null  object \n",
      " 1   QuestionTiming          134420 non-null  object \n",
      " 2   TimeUtc                 134420 non-null  object \n",
      " 3   CurrentGameMode         117407 non-null  object \n",
      " 4   CurrentTask             117407 non-null  object \n",
      " 5   CurrentSessionLength    134420 non-null  int64  \n",
      " 6   LastTaskCompleted       71815 non-null   object \n",
      " 7   LevelProgressionAmount  117402 non-null  float64\n",
      " 8   QuestionType            134420 non-null  object \n",
      " 9   ResponseValue           134420 non-null  float64\n",
      "dtypes: float64(2), int64(1), object(7)\n",
      "memory usage: 10.3+ MB\n"
     ]
    }
   ],
   "source": [
    "train_data.info()"
   ]
  },
  {
   "cell_type": "code",
   "execution_count": 6,
   "id": "223aadf2",
   "metadata": {},
   "outputs": [
    {
     "data": {
      "text/html": [
       "<div>\n",
       "<style scoped>\n",
       "    .dataframe tbody tr th:only-of-type {\n",
       "        vertical-align: middle;\n",
       "    }\n",
       "\n",
       "    .dataframe tbody tr th {\n",
       "        vertical-align: top;\n",
       "    }\n",
       "\n",
       "    .dataframe thead th {\n",
       "        text-align: right;\n",
       "    }\n",
       "</style>\n",
       "<table border=\"1\" class=\"dataframe\">\n",
       "  <thead>\n",
       "    <tr style=\"text-align: right;\">\n",
       "      <th></th>\n",
       "      <th>UserID</th>\n",
       "      <th>QuestionTiming</th>\n",
       "      <th>TimeUtc</th>\n",
       "      <th>CurrentGameMode</th>\n",
       "      <th>CurrentTask</th>\n",
       "      <th>CurrentSessionLength</th>\n",
       "      <th>LastTaskCompleted</th>\n",
       "      <th>LevelProgressionAmount</th>\n",
       "      <th>QuestionType</th>\n",
       "      <th>ResponseValue</th>\n",
       "    </tr>\n",
       "  </thead>\n",
       "  <tbody>\n",
       "    <tr>\n",
       "      <th>0</th>\n",
       "      <td>p1</td>\n",
       "      <td>User Initiated</td>\n",
       "      <td>2022-08-18 22:55:27</td>\n",
       "      <td>NaN</td>\n",
       "      <td>NaN</td>\n",
       "      <td>2</td>\n",
       "      <td>NaN</td>\n",
       "      <td>NaN</td>\n",
       "      <td>Wellbeing</td>\n",
       "      <td>509.0</td>\n",
       "    </tr>\n",
       "    <tr>\n",
       "      <th>1</th>\n",
       "      <td>p1</td>\n",
       "      <td>System Initiated</td>\n",
       "      <td>2022-08-18 23:38:31</td>\n",
       "      <td>NaN</td>\n",
       "      <td>NaN</td>\n",
       "      <td>0</td>\n",
       "      <td>NaN</td>\n",
       "      <td>NaN</td>\n",
       "      <td>Wellbeing</td>\n",
       "      <td>653.0</td>\n",
       "    </tr>\n",
       "    <tr>\n",
       "      <th>2</th>\n",
       "      <td>p1</td>\n",
       "      <td>User Initiated</td>\n",
       "      <td>2022-08-18 23:39:24</td>\n",
       "      <td>Career</td>\n",
       "      <td>HOME_VAN</td>\n",
       "      <td>1</td>\n",
       "      <td>WASH_PWVan</td>\n",
       "      <td>1.000000</td>\n",
       "      <td>Wellbeing</td>\n",
       "      <td>705.0</td>\n",
       "    </tr>\n",
       "    <tr>\n",
       "      <th>3</th>\n",
       "      <td>p1</td>\n",
       "      <td>System Initiated</td>\n",
       "      <td>2022-08-18 23:45:01</td>\n",
       "      <td>Career</td>\n",
       "      <td>RESIDENTIALSMALL_BACKYARD</td>\n",
       "      <td>6</td>\n",
       "      <td>WASH_PWVan</td>\n",
       "      <td>0.168267</td>\n",
       "      <td>Wellbeing</td>\n",
       "      <td>817.0</td>\n",
       "    </tr>\n",
       "    <tr>\n",
       "      <th>4</th>\n",
       "      <td>p1</td>\n",
       "      <td>System Initiated</td>\n",
       "      <td>2022-08-18 23:51:22</td>\n",
       "      <td>Career</td>\n",
       "      <td>RESIDENTIALSMALL_BACKYARD</td>\n",
       "      <td>13</td>\n",
       "      <td>WASH_PWVan</td>\n",
       "      <td>0.429364</td>\n",
       "      <td>Wellbeing</td>\n",
       "      <td>810.0</td>\n",
       "    </tr>\n",
       "  </tbody>\n",
       "</table>\n",
       "</div>"
      ],
      "text/plain": [
       "  UserID    QuestionTiming              TimeUtc CurrentGameMode  \\\n",
       "0     p1    User Initiated  2022-08-18 22:55:27             NaN   \n",
       "1     p1  System Initiated  2022-08-18 23:38:31             NaN   \n",
       "2     p1    User Initiated  2022-08-18 23:39:24          Career   \n",
       "3     p1  System Initiated  2022-08-18 23:45:01          Career   \n",
       "4     p1  System Initiated  2022-08-18 23:51:22          Career   \n",
       "\n",
       "                 CurrentTask  CurrentSessionLength LastTaskCompleted  \\\n",
       "0                        NaN                     2               NaN   \n",
       "1                        NaN                     0               NaN   \n",
       "2                   HOME_VAN                     1        WASH_PWVan   \n",
       "3  RESIDENTIALSMALL_BACKYARD                     6        WASH_PWVan   \n",
       "4  RESIDENTIALSMALL_BACKYARD                    13        WASH_PWVan   \n",
       "\n",
       "   LevelProgressionAmount QuestionType  ResponseValue  \n",
       "0                     NaN    Wellbeing          509.0  \n",
       "1                     NaN    Wellbeing          653.0  \n",
       "2                1.000000    Wellbeing          705.0  \n",
       "3                0.168267    Wellbeing          817.0  \n",
       "4                0.429364    Wellbeing          810.0  "
      ]
     },
     "execution_count": 6,
     "metadata": {},
     "output_type": "execute_result"
    }
   ],
   "source": [
    "train_data.head()"
   ]
  },
  {
   "cell_type": "markdown",
   "id": "6940586c",
   "metadata": {},
   "source": [
    "###  3.1.2 EDA - test data"
   ]
  },
  {
   "cell_type": "code",
   "execution_count": 7,
   "id": "bccc514b",
   "metadata": {},
   "outputs": [
    {
     "name": "stdout",
     "output_type": "stream",
     "text": [
      "<class 'pandas.core.frame.DataFrame'>\n",
      "RangeIndex: 60832 entries, 0 to 60831\n",
      "Data columns (total 9 columns):\n",
      " #   Column                  Non-Null Count  Dtype  \n",
      "---  ------                  --------------  -----  \n",
      " 0   UserID                  60832 non-null  object \n",
      " 1   QuestionTiming          60832 non-null  object \n",
      " 2   TimeUtc                 60832 non-null  object \n",
      " 3   CurrentGameMode         50499 non-null  object \n",
      " 4   CurrentTask             50499 non-null  object \n",
      " 5   CurrentSessionLength    60832 non-null  int64  \n",
      " 6   LastTaskCompleted       24031 non-null  object \n",
      " 7   LevelProgressionAmount  50497 non-null  float64\n",
      " 8   QuestionType            60832 non-null  object \n",
      "dtypes: float64(1), int64(1), object(7)\n",
      "memory usage: 4.2+ MB\n"
     ]
    }
   ],
   "source": [
    "test_data.info()"
   ]
  },
  {
   "cell_type": "code",
   "execution_count": 8,
   "id": "7da8a568",
   "metadata": {},
   "outputs": [
    {
     "data": {
      "text/html": [
       "<div>\n",
       "<style scoped>\n",
       "    .dataframe tbody tr th:only-of-type {\n",
       "        vertical-align: middle;\n",
       "    }\n",
       "\n",
       "    .dataframe tbody tr th {\n",
       "        vertical-align: top;\n",
       "    }\n",
       "\n",
       "    .dataframe thead th {\n",
       "        text-align: right;\n",
       "    }\n",
       "</style>\n",
       "<table border=\"1\" class=\"dataframe\">\n",
       "  <thead>\n",
       "    <tr style=\"text-align: right;\">\n",
       "      <th></th>\n",
       "      <th>UserID</th>\n",
       "      <th>QuestionTiming</th>\n",
       "      <th>TimeUtc</th>\n",
       "      <th>CurrentGameMode</th>\n",
       "      <th>CurrentTask</th>\n",
       "      <th>CurrentSessionLength</th>\n",
       "      <th>LastTaskCompleted</th>\n",
       "      <th>LevelProgressionAmount</th>\n",
       "      <th>QuestionType</th>\n",
       "    </tr>\n",
       "  </thead>\n",
       "  <tbody>\n",
       "    <tr>\n",
       "      <th>0</th>\n",
       "      <td>p1</td>\n",
       "      <td>System Initiated</td>\n",
       "      <td>2022-08-28 15:50:22</td>\n",
       "      <td>NaN</td>\n",
       "      <td>NaN</td>\n",
       "      <td>0</td>\n",
       "      <td>NaN</td>\n",
       "      <td>NaN</td>\n",
       "      <td>Wellbeing</td>\n",
       "    </tr>\n",
       "    <tr>\n",
       "      <th>1</th>\n",
       "      <td>p1</td>\n",
       "      <td>User Initiated</td>\n",
       "      <td>2022-08-28 16:05:02</td>\n",
       "      <td>Career</td>\n",
       "      <td>RECREATIONGROUND_SKATEPARK</td>\n",
       "      <td>14</td>\n",
       "      <td>NaN</td>\n",
       "      <td>0.563458</td>\n",
       "      <td>Wellbeing</td>\n",
       "    </tr>\n",
       "    <tr>\n",
       "      <th>2</th>\n",
       "      <td>p1</td>\n",
       "      <td>User Initiated</td>\n",
       "      <td>2022-09-07 03:31:50</td>\n",
       "      <td>NaN</td>\n",
       "      <td>NaN</td>\n",
       "      <td>0</td>\n",
       "      <td>NaN</td>\n",
       "      <td>NaN</td>\n",
       "      <td>Wellbeing</td>\n",
       "    </tr>\n",
       "    <tr>\n",
       "      <th>3</th>\n",
       "      <td>p1</td>\n",
       "      <td>System Initiated</td>\n",
       "      <td>2022-09-08 01:30:05</td>\n",
       "      <td>NaN</td>\n",
       "      <td>NaN</td>\n",
       "      <td>0</td>\n",
       "      <td>NaN</td>\n",
       "      <td>NaN</td>\n",
       "      <td>Wellbeing</td>\n",
       "    </tr>\n",
       "    <tr>\n",
       "      <th>4</th>\n",
       "      <td>p1</td>\n",
       "      <td>System Initiated</td>\n",
       "      <td>2022-09-08 01:43:45</td>\n",
       "      <td>Career</td>\n",
       "      <td>RECREATIONGROUND_SKATEPARK</td>\n",
       "      <td>13</td>\n",
       "      <td>NaN</td>\n",
       "      <td>0.829827</td>\n",
       "      <td>Wellbeing</td>\n",
       "    </tr>\n",
       "  </tbody>\n",
       "</table>\n",
       "</div>"
      ],
      "text/plain": [
       "  UserID    QuestionTiming              TimeUtc CurrentGameMode  \\\n",
       "0     p1  System Initiated  2022-08-28 15:50:22             NaN   \n",
       "1     p1    User Initiated  2022-08-28 16:05:02          Career   \n",
       "2     p1    User Initiated  2022-09-07 03:31:50             NaN   \n",
       "3     p1  System Initiated  2022-09-08 01:30:05             NaN   \n",
       "4     p1  System Initiated  2022-09-08 01:43:45          Career   \n",
       "\n",
       "                  CurrentTask  CurrentSessionLength LastTaskCompleted  \\\n",
       "0                         NaN                     0               NaN   \n",
       "1  RECREATIONGROUND_SKATEPARK                    14               NaN   \n",
       "2                         NaN                     0               NaN   \n",
       "3                         NaN                     0               NaN   \n",
       "4  RECREATIONGROUND_SKATEPARK                    13               NaN   \n",
       "\n",
       "   LevelProgressionAmount QuestionType  \n",
       "0                     NaN    Wellbeing  \n",
       "1                0.563458    Wellbeing  \n",
       "2                     NaN    Wellbeing  \n",
       "3                     NaN    Wellbeing  \n",
       "4                0.829827    Wellbeing  "
      ]
     },
     "execution_count": 8,
     "metadata": {},
     "output_type": "execute_result"
    }
   ],
   "source": [
    "test_data.head()"
   ]
  },
  {
   "cell_type": "markdown",
   "id": "7e5a7e1c",
   "metadata": {},
   "source": [
    "###  3.1.3 EDA - Supplimental data"
   ]
  },
  {
   "cell_type": "code",
   "execution_count": 9,
   "id": "b4d5d398",
   "metadata": {},
   "outputs": [
    {
     "name": "stdout",
     "output_type": "stream",
     "text": [
      "<class 'pandas.core.frame.DataFrame'>\n",
      "RangeIndex: 294726 entries, 0 to 294725\n",
      "Data columns (total 10 columns):\n",
      " #   Column                  Non-Null Count   Dtype  \n",
      "---  ------                  --------------   -----  \n",
      " 0   UserID                  294726 non-null  object \n",
      " 1   QuestionTiming          294726 non-null  object \n",
      " 2   TimeUtc                 294726 non-null  object \n",
      " 3   CurrentGameMode         294726 non-null  object \n",
      " 4   CurrentTask             294726 non-null  object \n",
      " 5   CurrentSessionLength    294726 non-null  int64  \n",
      " 6   LastTaskCompleted       166724 non-null  object \n",
      " 7   LevelProgressionAmount  294726 non-null  float64\n",
      " 8   QuestionType            294726 non-null  object \n",
      " 9   ResponseValue           294726 non-null  float64\n",
      "dtypes: float64(2), int64(1), object(7)\n",
      "memory usage: 22.5+ MB\n"
     ]
    }
   ],
   "source": [
    "supplimental_data.info()"
   ]
  },
  {
   "cell_type": "code",
   "execution_count": 10,
   "id": "a0e193c4",
   "metadata": {},
   "outputs": [
    {
     "data": {
      "text/html": [
       "<div>\n",
       "<style scoped>\n",
       "    .dataframe tbody tr th:only-of-type {\n",
       "        vertical-align: middle;\n",
       "    }\n",
       "\n",
       "    .dataframe tbody tr th {\n",
       "        vertical-align: top;\n",
       "    }\n",
       "\n",
       "    .dataframe thead th {\n",
       "        text-align: right;\n",
       "    }\n",
       "</style>\n",
       "<table border=\"1\" class=\"dataframe\">\n",
       "  <thead>\n",
       "    <tr style=\"text-align: right;\">\n",
       "      <th></th>\n",
       "      <th>UserID</th>\n",
       "      <th>QuestionTiming</th>\n",
       "      <th>TimeUtc</th>\n",
       "      <th>CurrentGameMode</th>\n",
       "      <th>CurrentTask</th>\n",
       "      <th>CurrentSessionLength</th>\n",
       "      <th>LastTaskCompleted</th>\n",
       "      <th>LevelProgressionAmount</th>\n",
       "      <th>QuestionType</th>\n",
       "      <th>ResponseValue</th>\n",
       "    </tr>\n",
       "  </thead>\n",
       "  <tbody>\n",
       "    <tr>\n",
       "      <th>0</th>\n",
       "      <td>p1</td>\n",
       "      <td>System Initiated</td>\n",
       "      <td>2022-08-19 00:02:01</td>\n",
       "      <td>Career</td>\n",
       "      <td>RESIDENTIALSMALL_BACKYARD</td>\n",
       "      <td>7</td>\n",
       "      <td>NaN</td>\n",
       "      <td>0.726184</td>\n",
       "      <td>Focus</td>\n",
       "      <td>790.0</td>\n",
       "    </tr>\n",
       "    <tr>\n",
       "      <th>1</th>\n",
       "      <td>p1</td>\n",
       "      <td>System Initiated</td>\n",
       "      <td>2022-08-19 00:08:47</td>\n",
       "      <td>Career</td>\n",
       "      <td>RESIDENTIALSMALL_BACKYARD</td>\n",
       "      <td>13</td>\n",
       "      <td>NaN</td>\n",
       "      <td>0.834437</td>\n",
       "      <td>Focus</td>\n",
       "      <td>794.0</td>\n",
       "    </tr>\n",
       "    <tr>\n",
       "      <th>2</th>\n",
       "      <td>p1</td>\n",
       "      <td>System Initiated</td>\n",
       "      <td>2022-08-19 18:21:49</td>\n",
       "      <td>Special</td>\n",
       "      <td>MARS_MARSROVER</td>\n",
       "      <td>7</td>\n",
       "      <td>WASH_AlienHatch</td>\n",
       "      <td>1.000000</td>\n",
       "      <td>Focus</td>\n",
       "      <td>770.0</td>\n",
       "    </tr>\n",
       "    <tr>\n",
       "      <th>3</th>\n",
       "      <td>p1</td>\n",
       "      <td>System Initiated</td>\n",
       "      <td>2022-08-19 18:50:40</td>\n",
       "      <td>Career</td>\n",
       "      <td>RECREATIONGROUND_PLAYGROUND</td>\n",
       "      <td>36</td>\n",
       "      <td>WASH_Roundabout</td>\n",
       "      <td>0.250897</td>\n",
       "      <td>Enjoyment</td>\n",
       "      <td>743.0</td>\n",
       "    </tr>\n",
       "    <tr>\n",
       "      <th>4</th>\n",
       "      <td>p1</td>\n",
       "      <td>System Initiated</td>\n",
       "      <td>2022-08-19 20:17:25</td>\n",
       "      <td>Career</td>\n",
       "      <td>RECREATIONGROUND_PLAYGROUND</td>\n",
       "      <td>7</td>\n",
       "      <td>WASH_Stegoslide</td>\n",
       "      <td>0.351545</td>\n",
       "      <td>Focus</td>\n",
       "      <td>817.0</td>\n",
       "    </tr>\n",
       "  </tbody>\n",
       "</table>\n",
       "</div>"
      ],
      "text/plain": [
       "  UserID    QuestionTiming              TimeUtc CurrentGameMode  \\\n",
       "0     p1  System Initiated  2022-08-19 00:02:01          Career   \n",
       "1     p1  System Initiated  2022-08-19 00:08:47          Career   \n",
       "2     p1  System Initiated  2022-08-19 18:21:49         Special   \n",
       "3     p1  System Initiated  2022-08-19 18:50:40          Career   \n",
       "4     p1  System Initiated  2022-08-19 20:17:25          Career   \n",
       "\n",
       "                   CurrentTask  CurrentSessionLength LastTaskCompleted  \\\n",
       "0    RESIDENTIALSMALL_BACKYARD                     7               NaN   \n",
       "1    RESIDENTIALSMALL_BACKYARD                    13               NaN   \n",
       "2               MARS_MARSROVER                     7   WASH_AlienHatch   \n",
       "3  RECREATIONGROUND_PLAYGROUND                    36   WASH_Roundabout   \n",
       "4  RECREATIONGROUND_PLAYGROUND                     7   WASH_Stegoslide   \n",
       "\n",
       "   LevelProgressionAmount QuestionType  ResponseValue  \n",
       "0                0.726184        Focus          790.0  \n",
       "1                0.834437        Focus          794.0  \n",
       "2                1.000000        Focus          770.0  \n",
       "3                0.250897    Enjoyment          743.0  \n",
       "4                0.351545        Focus          817.0  "
      ]
     },
     "execution_count": 10,
     "metadata": {},
     "output_type": "execute_result"
    }
   ],
   "source": [
    "supplimental_data.head()"
   ]
  },
  {
   "cell_type": "code",
   "execution_count": 11,
   "id": "f83dbc6a",
   "metadata": {},
   "outputs": [],
   "source": [
    "# test and train data are the same \n",
    "# So supplimental data has 1 feature more called ResponseValue"
   ]
  },
  {
   "cell_type": "markdown",
   "id": "e0422185",
   "metadata": {},
   "source": [
    "## 3.2 EDA - Checking for Categorical values between TRAIN and SUPPLIMENTAL"
   ]
  },
  {
   "cell_type": "code",
   "execution_count": 12,
   "id": "a7b60993",
   "metadata": {},
   "outputs": [],
   "source": [
    "# Possible Categorical values include:\n",
    "# QuestionTiming\n",
    "# CurrentGameMode\n",
    "# CurrentTask\n",
    "# QuestionType\n",
    "# LastTaskCompleted"
   ]
  },
  {
   "cell_type": "markdown",
   "id": "198f56db",
   "metadata": {},
   "source": [
    "### 3.2.1 EDA - QuestionTiming"
   ]
  },
  {
   "cell_type": "markdown",
   "id": "a4166763",
   "metadata": {},
   "source": [
    "#### 3.2.1.1 EDA - QuestionTiming Train"
   ]
  },
  {
   "cell_type": "code",
   "execution_count": 13,
   "id": "f358c5ed",
   "metadata": {},
   "outputs": [
    {
     "name": "stdout",
     "output_type": "stream",
     "text": [
      "['User Initiated', 'System Initiated']\n"
     ]
    }
   ],
   "source": [
    "# Step 1: Get unique values from the column\n",
    "categorical_test = train_data['QuestionTiming'].unique()\n",
    "\n",
    "# Step 2: Filter out 'double' values (assuming 'double' means numerical values represented as strings)\n",
    "filtered_values = [value for value in categorical_test if not value.replace('.', '', 1).isdigit()]\n",
    "\n",
    "# Step 3: Convert filtered values to a list\n",
    "filtered_values_list = list(filtered_values)\n",
    "\n",
    "# Step 4: Print the list\n",
    "print(filtered_values_list)\n",
    "\n",
    "\n",
    "# This is repeated for all in 3.2. Steps are only given below to avoid repetition."
   ]
  },
  {
   "cell_type": "code",
   "execution_count": 14,
   "id": "5e0ec2cc",
   "metadata": {},
   "outputs": [],
   "source": [
    "# Two answers should mean this should not have to be dummy encoded since it's binairy"
   ]
  },
  {
   "cell_type": "markdown",
   "id": "d270ad01",
   "metadata": {},
   "source": [
    "#### 3.2.1.2 EDA - QuestionTiming Supplimental"
   ]
  },
  {
   "cell_type": "code",
   "execution_count": 15,
   "id": "9eff7dcc",
   "metadata": {},
   "outputs": [
    {
     "name": "stdout",
     "output_type": "stream",
     "text": [
      "['System Initiated']\n"
     ]
    }
   ],
   "source": [
    "unique_values = supplimental_data['QuestionTiming'].unique()\n",
    "# Filter out non-string values and convert to string\n",
    "filtered_values = [str(value) for value in unique_values if not isinstance(value, float)]\n",
    "filtered_values_list = list(filtered_values)\n",
    "print(filtered_values_list)"
   ]
  },
  {
   "cell_type": "markdown",
   "id": "b58d965b",
   "metadata": {},
   "source": [
    "#### 3.2.1.3 EDA - QuestingTiming Results\n",
    "\n",
    "###### The train data is binairy, the supplimental data is only \"System Initiated\". Dummy encode to be sure. "
   ]
  },
  {
   "cell_type": "markdown",
   "id": "1e07a38b",
   "metadata": {},
   "source": [
    "### 3.2.2 EDA - CurentGameMode"
   ]
  },
  {
   "cell_type": "markdown",
   "id": "85d8b2fd",
   "metadata": {},
   "source": [
    "#### 3.2.2.1 EDA - CurrentGameMode Train"
   ]
  },
  {
   "cell_type": "code",
   "execution_count": 16,
   "id": "4aac4c14",
   "metadata": {},
   "outputs": [
    {
     "name": "stdout",
     "output_type": "stream",
     "text": [
      "['Career', 'Special', 'FreePlay', 'Challenge']\n"
     ]
    }
   ],
   "source": [
    "unique_values = train_data['CurrentGameMode'].unique()\n",
    "# Filter out non-string values and convert to string\n",
    "filtered_values = [str(value) for value in unique_values if not isinstance(value, float)]\n",
    "filtered_values_list = list(filtered_values)\n",
    "print(filtered_values_list)"
   ]
  },
  {
   "cell_type": "code",
   "execution_count": 17,
   "id": "d4dfea93",
   "metadata": {},
   "outputs": [],
   "source": [
    "# Four answers should mean this can be dummy encoded to 4, no order."
   ]
  },
  {
   "cell_type": "markdown",
   "id": "83652bb0",
   "metadata": {},
   "source": [
    "#### 3.2.2.2 EDA - CurrentGameMode Supplimental"
   ]
  },
  {
   "cell_type": "code",
   "execution_count": 18,
   "id": "7ba7194c",
   "metadata": {},
   "outputs": [
    {
     "name": "stdout",
     "output_type": "stream",
     "text": [
      "['Career', 'Special', 'FreePlay']\n"
     ]
    }
   ],
   "source": [
    "unique_values = supplimental_data['CurrentGameMode'].unique()\n",
    "# Filter out non-string values and convert to string\n",
    "filtered_values = [str(value) for value in unique_values if not isinstance(value, float)]\n",
    "filtered_values_list = list(filtered_values)\n",
    "print(filtered_values_list)"
   ]
  },
  {
   "cell_type": "markdown",
   "id": "31803d74",
   "metadata": {},
   "source": [
    "#### 3.2.2.3 EDA - CurrentGameMode Results\n",
    "\n",
    "###### Train data contains one variable more called \"Challenge\""
   ]
  },
  {
   "cell_type": "markdown",
   "id": "4ffdd9c6",
   "metadata": {},
   "source": [
    "### 3.2.3 EDA - CurrentTask"
   ]
  },
  {
   "cell_type": "markdown",
   "id": "bbef9796",
   "metadata": {},
   "source": [
    "#### 3.2.3.1 EDA - CurrentTask Train"
   ]
  },
  {
   "cell_type": "code",
   "execution_count": 19,
   "id": "50835f5e",
   "metadata": {},
   "outputs": [
    {
     "name": "stdout",
     "output_type": "stream",
     "text": [
      "['HOME_VAN', 'RESIDENTIALSMALL_BACKYARD', 'RESIDENTIALSMALL_BUNGALOW', 'RECREATIONGROUND_PLAYGROUND', 'SUBURBIA_DETACHEDHOUSE', 'RECREATIONGROUND_SKATEPARK', 'FIRESTATION_FIRESTATION', 'FIRESTATION_FIRETRUCK', 'SUBURBIA_CAMPERVAN', 'FIRESTATION_FIREHELICOPTER', 'NATIONALPARK_STORYBOOKHOUSE', 'MANSION_FRONT', 'FAIRGROUND_MERRYGOROUND', 'NATIONALPARK_TREEHOUSE', 'COUNTRYSIDE_TEMPLE', 'SUBWAY_SUBWAYWASHROOM', 'AIRPORT_PRIVATEJET', 'MANSION_FROLICBOAT', 'HANGAR_MONSTERTRUCK', 'HOME_DIRTBIKE', 'NATIONALPARK_SHOEHOUSE', 'RECREATIONGROUND_MINIGOLF', 'HOME_GOLFCART', 'SUBURBIA_VINTAGECAR', 'RECREATIONGROUND_FOUNTAIN', 'HOME_DRILL', 'FAIRGROUND_BIGWHEEL', 'DESERT_ANCIENTSTATUE', 'HANGAR_STUNTPLANE', 'MARINA_FISHINGBOAT', 'DESERT_UFO', 'SEATEMPLE', 'FAIRGROUND_HELTERSKELTER', 'DESERT_STEAMLOCOMOTIVE', 'RESIDENTIALSMALL_RACINGCAR', 'HOME_PENNYFARTHING', 'SUBWAY_SUBWAYPLATFORM', 'MARS_MARSROVER', 'HOME_SUV', 'FAIRGROUND_FORTUNETELLERCARAVAN', 'HOME_MOTORBIKESIDECAR', 'DESERT_ANCIENTHAND', 'WATER_HOME_VAN', 'TIME_HOME_MOTORBIKESIDECAR', 'WATER_HOME_GOLFCART', 'TIME_HOME_VAN', 'TIME_RESIDENTIALSMALL_BACKYARD', 'TIME_HOME_DIRTBIKE', 'WATER_FIRESTATION_FIRETRUCK']\n"
     ]
    }
   ],
   "source": [
    "unique_values = train_data['CurrentTask'].unique()\n",
    "filtered_values = [str(value) for value in unique_values if not isinstance(value, float)]\n",
    "filtered_values_list = list(filtered_values)\n",
    "print(filtered_values_list)"
   ]
  },
  {
   "cell_type": "code",
   "execution_count": 20,
   "id": "12f1f687",
   "metadata": {},
   "outputs": [],
   "source": [
    "# Lots of values, not smart to dummy encode, another option is needed."
   ]
  },
  {
   "cell_type": "markdown",
   "id": "5ee8d07a",
   "metadata": {},
   "source": [
    "#### 3.2.3.2 EDA - CurrentTask Supplimental"
   ]
  },
  {
   "cell_type": "code",
   "execution_count": 21,
   "id": "3c505fd7",
   "metadata": {},
   "outputs": [
    {
     "name": "stdout",
     "output_type": "stream",
     "text": [
      "['RESIDENTIALSMALL_BACKYARD', 'MARS_MARSROVER', 'RECREATIONGROUND_PLAYGROUND', 'SUBURBIA_DETACHEDHOUSE', 'RECREATIONGROUND_SKATEPARK', 'RESIDENTIALSMALL_BUNGALOW', 'NATIONALPARK_SHOEHOUSE', 'SUBURBIA_VINTAGECAR', 'HOME_MOTORBIKESIDECAR', 'FIRESTATION_FIRESTATION', 'FIRESTATION_FIRETRUCK', 'SUBURBIA_CAMPERVAN', 'FIRESTATION_FIREHELICOPTER', 'NATIONALPARK_STORYBOOKHOUSE', 'HOME_PENNYFARTHING', 'MANSION_FRONT', 'FAIRGROUND_MERRYGOROUND', 'HOME_DRILL', 'NATIONALPARK_TREEHOUSE', 'COUNTRYSIDE_TEMPLE', 'SUBWAY_SUBWAYWASHROOM', 'FAIRGROUND_HELTERSKELTER', 'AIRPORT_PRIVATEJET', 'MANSION_FROLICBOAT', 'HANGAR_MONSTERTRUCK', 'FAIRGROUND_BIGWHEEL', 'SUBWAY_SUBWAYPLATFORM', 'HOME_VAN', 'RECREATIONGROUND_MINIGOLF', 'RESIDENTIALSMALL_RACINGCAR', 'RECREATIONGROUND_FOUNTAIN', 'FAIRGROUND_FORTUNETELLERCARAVAN', 'DESERT_ANCIENTSTATUE', 'HANGAR_STUNTPLANE', 'DESERT_ANCIENTHAND', 'MARINA_FISHINGBOAT', 'DESERT_UFO', 'SEATEMPLE', 'HOME_DIRTBIKE', 'HOME_SUV', 'DESERT_STEAMLOCOMOTIVE', 'HOME_GOLFCART']\n"
     ]
    }
   ],
   "source": [
    "unique_values = supplimental_data['CurrentTask'].unique()\n",
    "filtered_values = [str(value) for value in unique_values if not isinstance(value, float)]\n",
    "filtered_values_list = list(filtered_values)\n",
    "print(filtered_values_list)"
   ]
  },
  {
   "cell_type": "markdown",
   "id": "71ab271b",
   "metadata": {},
   "source": [
    "#### 3.2.3.3 EDA - CurrentTask Results\n",
    "\n",
    "#### Both contain high dimensional data. Possible remendies:\n",
    "#### One-Hot encoding, Frequency encoding, target encoding"
   ]
  },
  {
   "cell_type": "markdown",
   "id": "07ded45b",
   "metadata": {},
   "source": [
    "### 3.2.4 EDA - QuestionType"
   ]
  },
  {
   "cell_type": "markdown",
   "id": "c4466b71",
   "metadata": {},
   "source": [
    "#### 3.2.4.1 EDA - QuestionType Train"
   ]
  },
  {
   "cell_type": "code",
   "execution_count": 22,
   "id": "99220ba1",
   "metadata": {},
   "outputs": [
    {
     "name": "stdout",
     "output_type": "stream",
     "text": [
      "['Wellbeing']\n"
     ]
    }
   ],
   "source": [
    "unique_values = train_data['QuestionType'].unique()\n",
    "filtered_values = [str(value) for value in unique_values if not isinstance(value, float)]\n",
    "filtered_values_list = list(filtered_values)\n",
    "print(filtered_values_list)"
   ]
  },
  {
   "cell_type": "code",
   "execution_count": 23,
   "id": "e001e1b5",
   "metadata": {},
   "outputs": [
    {
     "name": "stdout",
     "output_type": "stream",
     "text": [
      "True\n"
     ]
    }
   ],
   "source": [
    "#Checking if everything is Wellbeing\n",
    "\n",
    "are_all_same = len(unique_values) == 1\n",
    "print(are_all_same)"
   ]
  },
  {
   "cell_type": "code",
   "execution_count": 24,
   "id": "8e114694",
   "metadata": {},
   "outputs": [
    {
     "name": "stdout",
     "output_type": "stream",
     "text": [
      "Missing data per column:\n",
      "UserID                        0\n",
      "QuestionTiming                0\n",
      "TimeUtc                       0\n",
      "CurrentGameMode           17013\n",
      "CurrentTask               17013\n",
      "CurrentSessionLength          0\n",
      "LastTaskCompleted         62605\n",
      "LevelProgressionAmount    17018\n",
      "QuestionType                  0\n",
      "ResponseValue                 0\n",
      "dtype: int64\n"
     ]
    }
   ],
   "source": [
    "missing_data = train_data.isnull().sum()\n",
    "print(\"Missing data per column:\")\n",
    "print(missing_data)"
   ]
  },
  {
   "cell_type": "code",
   "execution_count": 25,
   "id": "144e3b45",
   "metadata": {},
   "outputs": [],
   "source": [
    "# So QuestionType is never NaN and ALWAYS 'Wellbeing' for train data"
   ]
  },
  {
   "cell_type": "markdown",
   "id": "5dc50598",
   "metadata": {},
   "source": [
    "#### 3.2.4.2 EDA - QuestionType Supplimental"
   ]
  },
  {
   "cell_type": "code",
   "execution_count": 26,
   "id": "784583eb",
   "metadata": {},
   "outputs": [
    {
     "name": "stdout",
     "output_type": "stream",
     "text": [
      "['Focus', 'Enjoyment', 'Immersion', 'Autonomy', 'Competence']\n"
     ]
    }
   ],
   "source": [
    "unique_values = supplimental_data['QuestionType'].unique()\n",
    "filtered_values = [str(value) for value in unique_values if not isinstance(value, float)]\n",
    "filtered_values_list = list(filtered_values)\n",
    "print(filtered_values_list)"
   ]
  },
  {
   "cell_type": "markdown",
   "id": "3993f16c",
   "metadata": {},
   "source": [
    "#### 3.2.4.1 EDA - QuestionType Results\n",
    "\n",
    "##### For the Train data we can REMOVE the COLUMN QuestionType due to it having just 1 result and no NaN\n",
    "#### For the Supplimental Data we can due to low dimension dummy encode."
   ]
  },
  {
   "cell_type": "markdown",
   "id": "a7bc95b0",
   "metadata": {},
   "source": [
    "### 3.2.4 EDA - LastTaskCompleted"
   ]
  },
  {
   "cell_type": "markdown",
   "id": "0416ae39",
   "metadata": {},
   "source": [
    "#### 3.2.4.1 EDA - LastTaskCompleted Train"
   ]
  },
  {
   "cell_type": "code",
   "execution_count": 27,
   "id": "a7aa1506",
   "metadata": {},
   "outputs": [
    {
     "name": "stdout",
     "output_type": "stream",
     "text": [
      "['WASH_PWVan', 'WASH_DirtBike', 'WASH_AlienHatch', 'WASH_Bench_01', 'WASH_Roundabout', 'WASH_Stegoslide', 'WASH_ClimbingFrame', 'WASH_PlaygroundFloor', 'WASH_GolfCart', 'WASH_MotorbikeSidecar', 'WASH_80sRacingCar', 'WASH_FireTruck', 'WASH_CamperVan', 'WASH_PennyFarthing', 'WASH_Mansion', 'WASH_TreeHouse', 'WASH_Temple', 'WASH_HelterSkelter', 'WASH_PrivateJet', 'WASH_Backyard', 'WASH_ShoeHouse', 'WASH_DetachedHouse', 'WASH_Bench', 'WASH_Bench_02', 'WASH_MarsRover', 'WASH_VintageCar', 'WASH_SkatePark', 'WASH_SUV', 'WASH_FireHelicopter', 'WASH_FortuneTellerCaravan', 'WASH_AncientStatue', 'WASH_SeaTemple', 'WASH_FireStation', 'WASH_MerryGoRound', 'WASH_SteamLocomotive', 'WASH_Bin_01', 'WASH_Drill', 'WASH_FrolicBoat', 'WASH_MonsterTruck', 'WASH_SubwayWashroom', 'WASH_Bin', 'WASH_Bungalow', 'WASH_StoryBookCottage', 'WASH_Fountain', 'WASH_BigWheel_01', 'WASHABLE', 'WASH_SubwayPlatform', 'WASH_UFO', 'WASH_AncientHand', 'WASH_Marina_FishingBoat', 'WASH_StuntPlane']\n"
     ]
    }
   ],
   "source": [
    "unique_values = train_data['LastTaskCompleted'].unique()\n",
    "filtered_values = [str(value) for value in unique_values if not isinstance(value, float)]\n",
    "filtered_values_list = list(filtered_values)\n",
    "print(filtered_values_list)"
   ]
  },
  {
   "cell_type": "code",
   "execution_count": 28,
   "id": "cd2530d8",
   "metadata": {},
   "outputs": [
    {
     "data": {
      "text/plain": [
       "52"
      ]
     },
     "execution_count": 28,
     "metadata": {},
     "output_type": "execute_result"
    }
   ],
   "source": [
    "unique_values.size"
   ]
  },
  {
   "cell_type": "code",
   "execution_count": 29,
   "id": "e56d2698",
   "metadata": {},
   "outputs": [],
   "source": [
    "# Lots of values, not smart to dummy encode, another option is needed."
   ]
  },
  {
   "cell_type": "markdown",
   "id": "3eb3cb5d",
   "metadata": {},
   "source": [
    "#### 3.2.4.2 EDA - LastTaskCompleted Supplimental"
   ]
  },
  {
   "cell_type": "code",
   "execution_count": 30,
   "id": "e953365b",
   "metadata": {},
   "outputs": [
    {
     "name": "stdout",
     "output_type": "stream",
     "text": [
      "['WASH_AlienHatch', 'WASH_Roundabout', 'WASH_Stegoslide', 'WASH_PlaygroundFloor', 'WASH_PWVan', 'WASH_DirtBike', 'WASH_Bungalow', 'WASH_Bench_01', 'WASH_Bench_02', 'WASH_GolfCart', 'WASH_DetachedHouse', 'WASH_ShoeHouse', 'WASH_SkatePark', 'WASH_MotorbikeSidecar', 'WASH_80sRacingCar', 'WASH_CamperVan', 'WASH_SUV', 'WASH_PennyFarthing', 'WASH_Mansion', 'WASH_Drill', 'WASH_TreeHouse', 'WASH_SubwayWashroom', 'WASH_HelterSkelter', 'WASH_PrivateJet', 'WASH_BigWheel_01', 'WASH_VintageCar', 'WASH_StoryBookCottage', 'WASH_Backyard', 'WASH_Bin_01', 'WASH_ClimbingFrame', 'WASH_FireStation', 'WASH_FireTruck', 'WASH_FireHelicopter', 'WASH_MarsRover', 'WASH_Fountain', 'WASH_MerryGoRound', 'WASH_Temple', 'WASH_SubwayPlatform', 'WASH_FortuneTellerCaravan', 'WASH_AncientStatue', 'WASH_Marina_FishingBoat', 'WASH_UFO', 'WASH_SteamLocomotive', 'WASH_Bin', 'WASH_Bench', 'WASH_FrolicBoat', 'WASH_MonsterTruck', 'WASHABLE', 'WASH_StuntPlane', 'WASH_AncientHand', 'WASH_SeaTemple']\n"
     ]
    }
   ],
   "source": [
    "unique_values = supplimental_data['LastTaskCompleted'].unique()\n",
    "filtered_values = [str(value) for value in unique_values if not isinstance(value, float)]\n",
    "filtered_values_list = list(filtered_values)\n",
    "print(filtered_values_list)"
   ]
  },
  {
   "cell_type": "code",
   "execution_count": 31,
   "id": "e2f08886",
   "metadata": {},
   "outputs": [
    {
     "data": {
      "text/plain": [
       "52"
      ]
     },
     "execution_count": 31,
     "metadata": {},
     "output_type": "execute_result"
    }
   ],
   "source": [
    "unique_values.size"
   ]
  },
  {
   "cell_type": "markdown",
   "id": "e6f85c3b",
   "metadata": {},
   "source": [
    "#### 3.2.4.3 EDA - LastTaskCompleted Results\n",
    "\n",
    "##### So both are just extremly high dimensional. Dummy encoding is hard. Similair problem in 3.2.3 CurrentTask"
   ]
  },
  {
   "cell_type": "markdown",
   "id": "9f74fbac",
   "metadata": {},
   "source": [
    "### 3.2.5 EDA - Summary\n",
    "\n",
    "##### 1. The supplimental data and Train are near identical.\n",
    "##### 2. CurrentTask and LastTaskCompleted are high dimensional. Find strategy to reduce dimensions\n",
    "##### 3. Other categorial values can be dummy encoded. This because of low dimensions. This goes for:  QuestionTiming, CurrentGameMode, QuestionType \n",
    "##### 4. In the TRAIN data, QuestionTiming can be removed, not in SUPPLIMENTAL\n",
    "##### 5. TimeUTC transfer to another format possibly. \n",
    "##### 6. Normalize/Standardize CurrentSessionLength, LevelProgressionAmount and (In supplimental) ResponseValue.\n",
    "##### 7. UserID is a bit vague what we should do with it. \n",
    "\n",
    "### This would ensure for the data that:\n",
    "\n",
    "##### A - UserID: UNSURE, \n",
    "##### B - QuestionTiming: Dummy encode, \n",
    "##### C - TimeUtc: Change format for time, \n",
    "##### D - CurrentGameMode: Dummy encode, \n",
    "##### E - CurrentTask: HIGH DIMENSION UNSURE, \n",
    "##### F - CurrentSessionLength: Normalize/Standardize, \n",
    "##### G - LastTaskCompleted: HIGH DIMENSION UNSURE, \n",
    "##### H - LevelProgressionAmount: Normalize/Standardize, \n",
    "##### I - QuestionType: remove in TRAIN data, dummy in supplimental \n",
    "##### J - Dummy encode QuestionType in SUPPLIMENTAL data, \n",
    "##### K - ResponseValue: Normalize/Standardize"
   ]
  },
  {
   "cell_type": "markdown",
   "id": "7b3decfc",
   "metadata": {},
   "source": [
    "# 4 Preprocessing"
   ]
  },
  {
   "cell_type": "code",
   "execution_count": 32,
   "id": "a1a79d90",
   "metadata": {},
   "outputs": [],
   "source": [
    "#For myself adminstration\n",
    "\n",
    "#Not Completed\n",
    "##### A - UserID: UNSURE, \n",
    "##### C - TimeUtc: Change format for time, \n",
    "##### E - CurrentTask: HIGH DIMENSION UNSURE,\n",
    "##### G - LastTaskCompleted: HIGH DIMENSION UNSURE, \n",
    "\n",
    "\n",
    "#Completed\n",
    "##### J - Dummy encode in SUPPLIMENTAL data, \n",
    "##### I - QuestionType: remove in TRAIN data, dummy in supplimental \n",
    "##### D - CurrentGameMode: Dummy encode, \n",
    "##### B - QuestionTiming: Dummy encode, \n",
    "##### F - CurrentSessionLength: Normalize/Standardize, DONE\n",
    "##### H - LevelProgressionAmount: Normalize/Standardize, DONE\n",
    "##### K - ResponseValue: Normalize/Standardize DONE"
   ]
  },
  {
   "cell_type": "markdown",
   "id": "751234a7",
   "metadata": {},
   "source": [
    "#### 4.1.1 Preprocessing - Standardizing F, H an K \n",
    "\n"
   ]
  },
  {
   "cell_type": "code",
   "execution_count": 33,
   "id": "5f1b061f",
   "metadata": {},
   "outputs": [],
   "source": [
    "#### 4.1.1 Preprocessing - Standardizing F (CurrentSessionLength), H (LevelprogressionAmount) an K (ResponseValue) \n",
    "\n",
    "scaler = StandardScaler()\n",
    "columns_to_standardize = [\"CurrentSessionLength\", \"LevelProgressionAmount\", \"ResponseValue\"]\n",
    "scaler.fit(supplimental_data[columns_to_standardize])\n",
    "supplimental_data[columns_to_standardize] = scaler.transform(supplimental_data[columns_to_standardize])\n",
    "\n",
    "#supplimental_data.head()\n",
    "\n",
    "#If you wish to now standardize the ResponseValue, you can remove it from \"Columns_to_standardize\""
   ]
  },
  {
   "cell_type": "markdown",
   "id": "dc88b560",
   "metadata": {},
   "source": [
    "#### 4.1.2 Preprocessing - Dummy B, D, J\n"
   ]
  },
  {
   "cell_type": "code",
   "execution_count": 34,
   "id": "c9ea28e3",
   "metadata": {},
   "outputs": [
    {
     "data": {
      "text/html": [
       "<div>\n",
       "<style scoped>\n",
       "    .dataframe tbody tr th:only-of-type {\n",
       "        vertical-align: middle;\n",
       "    }\n",
       "\n",
       "    .dataframe tbody tr th {\n",
       "        vertical-align: top;\n",
       "    }\n",
       "\n",
       "    .dataframe thead th {\n",
       "        text-align: right;\n",
       "    }\n",
       "</style>\n",
       "<table border=\"1\" class=\"dataframe\">\n",
       "  <thead>\n",
       "    <tr style=\"text-align: right;\">\n",
       "      <th></th>\n",
       "      <th>UserID</th>\n",
       "      <th>TimeUtc</th>\n",
       "      <th>CurrentTask</th>\n",
       "      <th>CurrentSessionLength</th>\n",
       "      <th>LastTaskCompleted</th>\n",
       "      <th>LevelProgressionAmount</th>\n",
       "      <th>ResponseValue</th>\n",
       "      <th>QuestionTiming_System Initiated</th>\n",
       "      <th>CurrentGameMode_Career</th>\n",
       "      <th>CurrentGameMode_FreePlay</th>\n",
       "      <th>CurrentGameMode_Special</th>\n",
       "      <th>QuestionType_Autonomy</th>\n",
       "      <th>QuestionType_Competence</th>\n",
       "      <th>QuestionType_Enjoyment</th>\n",
       "      <th>QuestionType_Focus</th>\n",
       "      <th>QuestionType_Immersion</th>\n",
       "    </tr>\n",
       "  </thead>\n",
       "  <tbody>\n",
       "    <tr>\n",
       "      <th>0</th>\n",
       "      <td>p1</td>\n",
       "      <td>2022-08-19 00:02:01</td>\n",
       "      <td>RESIDENTIALSMALL_BACKYARD</td>\n",
       "      <td>-0.665599</td>\n",
       "      <td>NaN</td>\n",
       "      <td>0.645716</td>\n",
       "      <td>-0.154143</td>\n",
       "      <td>True</td>\n",
       "      <td>True</td>\n",
       "      <td>False</td>\n",
       "      <td>False</td>\n",
       "      <td>False</td>\n",
       "      <td>False</td>\n",
       "      <td>False</td>\n",
       "      <td>True</td>\n",
       "      <td>False</td>\n",
       "    </tr>\n",
       "    <tr>\n",
       "      <th>1</th>\n",
       "      <td>p1</td>\n",
       "      <td>2022-08-19 00:08:47</td>\n",
       "      <td>RESIDENTIALSMALL_BACKYARD</td>\n",
       "      <td>-0.621068</td>\n",
       "      <td>NaN</td>\n",
       "      <td>1.004028</td>\n",
       "      <td>-0.132882</td>\n",
       "      <td>True</td>\n",
       "      <td>True</td>\n",
       "      <td>False</td>\n",
       "      <td>False</td>\n",
       "      <td>False</td>\n",
       "      <td>False</td>\n",
       "      <td>False</td>\n",
       "      <td>True</td>\n",
       "      <td>False</td>\n",
       "    </tr>\n",
       "    <tr>\n",
       "      <th>2</th>\n",
       "      <td>p1</td>\n",
       "      <td>2022-08-19 18:21:49</td>\n",
       "      <td>MARS_MARSROVER</td>\n",
       "      <td>-0.665599</td>\n",
       "      <td>WASH_AlienHatch</td>\n",
       "      <td>1.552030</td>\n",
       "      <td>-0.260451</td>\n",
       "      <td>True</td>\n",
       "      <td>False</td>\n",
       "      <td>False</td>\n",
       "      <td>True</td>\n",
       "      <td>False</td>\n",
       "      <td>False</td>\n",
       "      <td>False</td>\n",
       "      <td>True</td>\n",
       "      <td>False</td>\n",
       "    </tr>\n",
       "    <tr>\n",
       "      <th>3</th>\n",
       "      <td>p1</td>\n",
       "      <td>2022-08-19 18:50:40</td>\n",
       "      <td>RECREATIONGROUND_PLAYGROUND</td>\n",
       "      <td>-0.450365</td>\n",
       "      <td>WASH_Roundabout</td>\n",
       "      <td>-0.927456</td>\n",
       "      <td>-0.403967</td>\n",
       "      <td>True</td>\n",
       "      <td>True</td>\n",
       "      <td>False</td>\n",
       "      <td>False</td>\n",
       "      <td>False</td>\n",
       "      <td>False</td>\n",
       "      <td>True</td>\n",
       "      <td>False</td>\n",
       "      <td>False</td>\n",
       "    </tr>\n",
       "    <tr>\n",
       "      <th>4</th>\n",
       "      <td>p1</td>\n",
       "      <td>2022-08-19 20:17:25</td>\n",
       "      <td>RECREATIONGROUND_PLAYGROUND</td>\n",
       "      <td>-0.665599</td>\n",
       "      <td>WASH_Stegoslide</td>\n",
       "      <td>-0.594316</td>\n",
       "      <td>-0.010628</td>\n",
       "      <td>True</td>\n",
       "      <td>True</td>\n",
       "      <td>False</td>\n",
       "      <td>False</td>\n",
       "      <td>False</td>\n",
       "      <td>False</td>\n",
       "      <td>False</td>\n",
       "      <td>True</td>\n",
       "      <td>False</td>\n",
       "    </tr>\n",
       "  </tbody>\n",
       "</table>\n",
       "</div>"
      ],
      "text/plain": [
       "  UserID              TimeUtc                  CurrentTask  \\\n",
       "0     p1  2022-08-19 00:02:01    RESIDENTIALSMALL_BACKYARD   \n",
       "1     p1  2022-08-19 00:08:47    RESIDENTIALSMALL_BACKYARD   \n",
       "2     p1  2022-08-19 18:21:49               MARS_MARSROVER   \n",
       "3     p1  2022-08-19 18:50:40  RECREATIONGROUND_PLAYGROUND   \n",
       "4     p1  2022-08-19 20:17:25  RECREATIONGROUND_PLAYGROUND   \n",
       "\n",
       "   CurrentSessionLength LastTaskCompleted  LevelProgressionAmount  \\\n",
       "0             -0.665599               NaN                0.645716   \n",
       "1             -0.621068               NaN                1.004028   \n",
       "2             -0.665599   WASH_AlienHatch                1.552030   \n",
       "3             -0.450365   WASH_Roundabout               -0.927456   \n",
       "4             -0.665599   WASH_Stegoslide               -0.594316   \n",
       "\n",
       "   ResponseValue  QuestionTiming_System Initiated  CurrentGameMode_Career  \\\n",
       "0      -0.154143                             True                    True   \n",
       "1      -0.132882                             True                    True   \n",
       "2      -0.260451                             True                   False   \n",
       "3      -0.403967                             True                    True   \n",
       "4      -0.010628                             True                    True   \n",
       "\n",
       "   CurrentGameMode_FreePlay  CurrentGameMode_Special  QuestionType_Autonomy  \\\n",
       "0                     False                    False                  False   \n",
       "1                     False                    False                  False   \n",
       "2                     False                     True                  False   \n",
       "3                     False                    False                  False   \n",
       "4                     False                    False                  False   \n",
       "\n",
       "   QuestionType_Competence  QuestionType_Enjoyment  QuestionType_Focus  \\\n",
       "0                    False                   False                True   \n",
       "1                    False                   False                True   \n",
       "2                    False                   False                True   \n",
       "3                    False                    True               False   \n",
       "4                    False                   False                True   \n",
       "\n",
       "   QuestionType_Immersion  \n",
       "0                   False  \n",
       "1                   False  \n",
       "2                   False  \n",
       "3                   False  \n",
       "4                   False  "
      ]
     },
     "execution_count": 34,
     "metadata": {},
     "output_type": "execute_result"
    }
   ],
   "source": [
    "#### 4.1.2 Preprocessing - Dummy B (QuestionTiming), D (CurrentGameMode), J (QuestionType) in supplimental. \n",
    "\n",
    "#Correct one                   \n",
    "columns_to_dummy = ['QuestionTiming', 'CurrentGameMode', 'QuestionType']                    \n",
    "                    \n",
    "# Use the get_dummies function to dummy encode these columns\n",
    "supplimental_data = pd.get_dummies(supplimental_data, columns=columns_to_dummy)\n",
    "\n",
    "supplimental_data.head()"
   ]
  },
  {
   "cell_type": "markdown",
   "id": "9a859455",
   "metadata": {},
   "source": [
    "#### 4.1.3 Preprocessing - UserID (A)\n"
   ]
  },
  {
   "cell_type": "code",
   "execution_count": null,
   "id": "840816e0",
   "metadata": {},
   "outputs": [],
   "source": [
    "supplimental_data.drop([\"UserID\"], axis=1, inplace=True)"
   ]
  },
  {
   "cell_type": "markdown",
   "id": "361ab47c",
   "metadata": {},
   "source": [
    "#### 4.1.4 Preprocessing - TimeUtc (C)"
   ]
  },
  {
   "cell_type": "code",
   "execution_count": null,
   "id": "dbbb8afb",
   "metadata": {},
   "outputs": [],
   "source": [
    "supplimental_data.drop([\"TimeUtc\"], axis=1, inplace=True)"
   ]
  },
  {
   "cell_type": "markdown",
   "id": "96a8ebaf",
   "metadata": {},
   "source": [
    "#### 4.1.4 Preprocessing - CurrentTask (E) (HD)"
   ]
  },
  {
   "cell_type": "code",
   "execution_count": null,
   "id": "e9086661",
   "metadata": {},
   "outputs": [],
   "source": [
    "supplimental_data.drop([\"CurrentTask\"], axis=1, inplace=True)"
   ]
  },
  {
   "cell_type": "markdown",
   "id": "01fd5a98",
   "metadata": {},
   "source": [
    "#### 4.1.4 Preprocessing - LastTaskCompleted (G) (HD)"
   ]
  },
  {
   "cell_type": "code",
   "execution_count": null,
   "id": "1c930a7d",
   "metadata": {},
   "outputs": [],
   "source": [
    "supplimental_data.drop([\"LastTaskCompleted\"], axis=1, inplace=True)"
   ]
  },
  {
   "cell_type": "code",
   "execution_count": 35,
   "id": "df67f928",
   "metadata": {},
   "outputs": [],
   "source": [
    "# This leaves us with ACEG which are UserID, TimeUtc, CurrentTask (HD) and LastTaskCompleted (HD)\n",
    "\n",
    "#This is untill we can figure out what to do with it :)"
   ]
  },
  {
   "cell_type": "code",
   "execution_count": 36,
   "id": "bd107e01",
   "metadata": {},
   "outputs": [
    {
     "data": {
      "text/html": [
       "<div>\n",
       "<style scoped>\n",
       "    .dataframe tbody tr th:only-of-type {\n",
       "        vertical-align: middle;\n",
       "    }\n",
       "\n",
       "    .dataframe tbody tr th {\n",
       "        vertical-align: top;\n",
       "    }\n",
       "\n",
       "    .dataframe thead th {\n",
       "        text-align: right;\n",
       "    }\n",
       "</style>\n",
       "<table border=\"1\" class=\"dataframe\">\n",
       "  <thead>\n",
       "    <tr style=\"text-align: right;\">\n",
       "      <th></th>\n",
       "      <th>CurrentSessionLength</th>\n",
       "      <th>LevelProgressionAmount</th>\n",
       "      <th>ResponseValue</th>\n",
       "      <th>QuestionTiming_System Initiated</th>\n",
       "      <th>CurrentGameMode_Career</th>\n",
       "      <th>CurrentGameMode_FreePlay</th>\n",
       "      <th>CurrentGameMode_Special</th>\n",
       "      <th>QuestionType_Autonomy</th>\n",
       "      <th>QuestionType_Competence</th>\n",
       "      <th>QuestionType_Enjoyment</th>\n",
       "      <th>QuestionType_Focus</th>\n",
       "      <th>QuestionType_Immersion</th>\n",
       "    </tr>\n",
       "  </thead>\n",
       "  <tbody>\n",
       "    <tr>\n",
       "      <th>0</th>\n",
       "      <td>-0.665599</td>\n",
       "      <td>0.645716</td>\n",
       "      <td>-0.154143</td>\n",
       "      <td>True</td>\n",
       "      <td>True</td>\n",
       "      <td>False</td>\n",
       "      <td>False</td>\n",
       "      <td>False</td>\n",
       "      <td>False</td>\n",
       "      <td>False</td>\n",
       "      <td>True</td>\n",
       "      <td>False</td>\n",
       "    </tr>\n",
       "    <tr>\n",
       "      <th>1</th>\n",
       "      <td>-0.621068</td>\n",
       "      <td>1.004028</td>\n",
       "      <td>-0.132882</td>\n",
       "      <td>True</td>\n",
       "      <td>True</td>\n",
       "      <td>False</td>\n",
       "      <td>False</td>\n",
       "      <td>False</td>\n",
       "      <td>False</td>\n",
       "      <td>False</td>\n",
       "      <td>True</td>\n",
       "      <td>False</td>\n",
       "    </tr>\n",
       "    <tr>\n",
       "      <th>2</th>\n",
       "      <td>-0.665599</td>\n",
       "      <td>1.552030</td>\n",
       "      <td>-0.260451</td>\n",
       "      <td>True</td>\n",
       "      <td>False</td>\n",
       "      <td>False</td>\n",
       "      <td>True</td>\n",
       "      <td>False</td>\n",
       "      <td>False</td>\n",
       "      <td>False</td>\n",
       "      <td>True</td>\n",
       "      <td>False</td>\n",
       "    </tr>\n",
       "    <tr>\n",
       "      <th>3</th>\n",
       "      <td>-0.450365</td>\n",
       "      <td>-0.927456</td>\n",
       "      <td>-0.403967</td>\n",
       "      <td>True</td>\n",
       "      <td>True</td>\n",
       "      <td>False</td>\n",
       "      <td>False</td>\n",
       "      <td>False</td>\n",
       "      <td>False</td>\n",
       "      <td>True</td>\n",
       "      <td>False</td>\n",
       "      <td>False</td>\n",
       "    </tr>\n",
       "    <tr>\n",
       "      <th>4</th>\n",
       "      <td>-0.665599</td>\n",
       "      <td>-0.594316</td>\n",
       "      <td>-0.010628</td>\n",
       "      <td>True</td>\n",
       "      <td>True</td>\n",
       "      <td>False</td>\n",
       "      <td>False</td>\n",
       "      <td>False</td>\n",
       "      <td>False</td>\n",
       "      <td>False</td>\n",
       "      <td>True</td>\n",
       "      <td>False</td>\n",
       "    </tr>\n",
       "  </tbody>\n",
       "</table>\n",
       "</div>"
      ],
      "text/plain": [
       "   CurrentSessionLength  LevelProgressionAmount  ResponseValue  \\\n",
       "0             -0.665599                0.645716      -0.154143   \n",
       "1             -0.621068                1.004028      -0.132882   \n",
       "2             -0.665599                1.552030      -0.260451   \n",
       "3             -0.450365               -0.927456      -0.403967   \n",
       "4             -0.665599               -0.594316      -0.010628   \n",
       "\n",
       "   QuestionTiming_System Initiated  CurrentGameMode_Career  \\\n",
       "0                             True                    True   \n",
       "1                             True                    True   \n",
       "2                             True                   False   \n",
       "3                             True                    True   \n",
       "4                             True                    True   \n",
       "\n",
       "   CurrentGameMode_FreePlay  CurrentGameMode_Special  QuestionType_Autonomy  \\\n",
       "0                     False                    False                  False   \n",
       "1                     False                    False                  False   \n",
       "2                     False                     True                  False   \n",
       "3                     False                    False                  False   \n",
       "4                     False                    False                  False   \n",
       "\n",
       "   QuestionType_Competence  QuestionType_Enjoyment  QuestionType_Focus  \\\n",
       "0                    False                   False                True   \n",
       "1                    False                   False                True   \n",
       "2                    False                   False                True   \n",
       "3                    False                    True               False   \n",
       "4                    False                   False                True   \n",
       "\n",
       "   QuestionType_Immersion  \n",
       "0                   False  \n",
       "1                   False  \n",
       "2                   False  \n",
       "3                   False  \n",
       "4                   False  "
      ]
     },
     "execution_count": 36,
     "metadata": {},
     "output_type": "execute_result"
    }
   ],
   "source": [
    "supplimental_data.head()"
   ]
  },
  {
   "cell_type": "code",
   "execution_count": null,
   "id": "d7b1ef75",
   "metadata": {},
   "outputs": [],
   "source": []
  },
  {
   "cell_type": "code",
   "execution_count": null,
   "id": "da0ca56a",
   "metadata": {},
   "outputs": [],
   "source": []
  },
  {
   "cell_type": "code",
   "execution_count": null,
   "id": "db11667a",
   "metadata": {},
   "outputs": [],
   "source": []
  },
  {
   "cell_type": "code",
   "execution_count": null,
   "id": "953015d5",
   "metadata": {},
   "outputs": [],
   "source": []
  },
  {
   "cell_type": "code",
   "execution_count": null,
   "id": "9ad9f270",
   "metadata": {},
   "outputs": [],
   "source": []
  },
  {
   "cell_type": "markdown",
   "id": "51c3176a",
   "metadata": {},
   "source": [
    "# 5.1 ML part"
   ]
  },
  {
   "cell_type": "markdown",
   "id": "195e79e3",
   "metadata": {},
   "source": [
    "## So basically this code below turns the supplimental data into test, val and train"
   ]
  },
  {
   "cell_type": "code",
   "execution_count": 37,
   "id": "eed33846",
   "metadata": {},
   "outputs": [],
   "source": [
    "# THIS PART IS NOT NEEDED FOR THE OFFICIAL DATA WE HAVE GOTTEN JUST FOR THE SUPPLIMENTAL DATA AS TRAIN IS ALREADY SPLITTED\n",
    "\n",
    "# Splitting the data into train and test sets (80% train, 20% test)\n",
    "train_df, test_df = train_test_split(supplimental_data, test_size=0.2, random_state=42)\n",
    "\n",
    "# Further splitting the training data into train and validation sets (60% train, 20% validation)\n",
    "train_df, val_df = train_test_split(train_df, test_size=0.25, random_state=42)\n",
    "\n",
    "# Now you have train_df for training, test_df for testing, and val_df for validation"
   ]
  },
  {
   "cell_type": "code",
   "execution_count": 38,
   "id": "3c482714",
   "metadata": {},
   "outputs": [],
   "source": [
    "# Optionally, you might want to save these DataFrames to separate files\n",
    "# THIS IS if they expect us to give them a certain processed CSV file but idk\n",
    "train_df.to_csv(\"train_sup.csv\", index=False)\n",
    "test_df.to_csv(\"test_sup.csv\", index=False)\n",
    "val_df.to_csv(\"val_sup.csv\", index=False)"
   ]
  },
  {
   "cell_type": "code",
   "execution_count": 39,
   "id": "8deddc7c",
   "metadata": {},
   "outputs": [
    {
     "name": "stdout",
     "output_type": "stream",
     "text": [
      "<class 'pandas.core.frame.DataFrame'>\n",
      "RangeIndex: 294726 entries, 0 to 294725\n",
      "Data columns (total 12 columns):\n",
      " #   Column                           Non-Null Count   Dtype  \n",
      "---  ------                           --------------   -----  \n",
      " 0   CurrentSessionLength             294726 non-null  float64\n",
      " 1   LevelProgressionAmount           294726 non-null  float64\n",
      " 2   ResponseValue                    294726 non-null  float64\n",
      " 3   QuestionTiming_System Initiated  294726 non-null  bool   \n",
      " 4   CurrentGameMode_Career           294726 non-null  bool   \n",
      " 5   CurrentGameMode_FreePlay         294726 non-null  bool   \n",
      " 6   CurrentGameMode_Special          294726 non-null  bool   \n",
      " 7   QuestionType_Autonomy            294726 non-null  bool   \n",
      " 8   QuestionType_Competence          294726 non-null  bool   \n",
      " 9   QuestionType_Enjoyment           294726 non-null  bool   \n",
      " 10  QuestionType_Focus               294726 non-null  bool   \n",
      " 11  QuestionType_Immersion           294726 non-null  bool   \n",
      "dtypes: bool(9), float64(3)\n",
      "memory usage: 9.3 MB\n"
     ]
    }
   ],
   "source": [
    "supplimental_data.info()"
   ]
  },
  {
   "cell_type": "code",
   "execution_count": 40,
   "id": "49b23b07",
   "metadata": {},
   "outputs": [],
   "source": [
    "#Checking, everything now is Boolean of Float so no strings for now. "
   ]
  },
  {
   "cell_type": "code",
   "execution_count": 42,
   "id": "687b2f73",
   "metadata": {},
   "outputs": [
    {
     "name": "stdout",
     "output_type": "stream",
     "text": [
      "Mean Squared Error on Validation Set: 0.977582848958184\n",
      "Mean Squared Error on Test Set: 0.9800372583301264\n"
     ]
    }
   ],
   "source": [
    "#I got this from GPT, doesn't seem accurate, just checking if it would work\n",
    "\n",
    "\n",
    "from sklearn.model_selection import train_test_split\n",
    "from sklearn.linear_model import LinearRegression\n",
    "from sklearn.metrics import mean_squared_error\n",
    "\n",
    "# Assuming train_df, test_df, and val_df are already loaded with your data\n",
    "\n",
    "# Step 1: Split the training data into features (X) and target (y)\n",
    "X_train = train_df.drop(columns=[\"ResponseValue\"])\n",
    "y_train = train_df[\"ResponseValue\"]\n",
    "\n",
    "# Step 2: Split the validation data into features (X_val) and target (y_val)\n",
    "X_val = val_df.drop(columns=[\"ResponseValue\"])\n",
    "y_val = val_df[\"ResponseValue\"]\n",
    "\n",
    "# Step 3: Train the model on the training data\n",
    "model = LinearRegression()\n",
    "model.fit(X_train, y_train)\n",
    "\n",
    "# Step 4: Validate the model on the validation data\n",
    "predictions = model.predict(X_val)\n",
    "mse = mean_squared_error(y_val, predictions)\n",
    "print(\"Mean Squared Error on Validation Set:\", mse)\n",
    "\n",
    "# Step 5: Drop the \"Responsevalue\" column from the test data\n",
    "X_test = test_df.drop(columns=[\"ResponseValue\"])\n",
    "\n",
    "# Some quick tests\n",
    "test_predictions = model.predict(X_test)\n",
    "test_mse = mean_squared_error(test_df[\"ResponseValue\"], test_predictions)\n",
    "print(\"Mean Squared Error on Test Set:\", test_mse)"
   ]
  },
  {
   "cell_type": "raw",
   "id": "1afb046a",
   "metadata": {},
   "source": [
    "# import pandas as pd\n",
    "from sklearn.ensemble import RandomForestClassifier\n",
    "import matplotlib.pyplot as plt\n",
    "\n",
    "# Load your dataset\n",
    "data = supplimental_data  # Update 'your_dataset.csv' with your file name\n",
    "\n",
    "# Separate features and target variable\n",
    "X = data.drop('CurrentSessionLength', axis=1)  # Update 'target_variable_column' with your target variable column name\n",
    "y = data['CurrentSessionLength']\n",
    "\n",
    "# Initialize Random Forest classifier\n",
    "rf = RandomForestClassifier(n_estimators=100, random_state=42)\n",
    "\n",
    "# Fit the model\n",
    "rf.fit(X, y)\n",
    "\n",
    "# Get feature importances\n",
    "importances = rf.feature_importances_\n",
    "\n",
    "# Sort feature importances in descending order\n",
    "indices = np.argsort(importances)[::-1]\n",
    "\n",
    "# Print the feature ranking\n",
    "print(\"Feature ranking:\")\n",
    "for f in range(X.shape[1]):\n",
    "    print(\"%d. feature %d (%f)\" % (f + 1, indices[f], importances[indices[f]]))\n",
    "\n",
    "# Plot the feature importances\n",
    "plt.figure(figsize=(10, 6))\n",
    "plt.title(\"Feature importances\")\n",
    "plt.bar(range(X.shape[1]), importances[indices], color=\"b\", align=\"center\")\n",
    "plt.xticks(range(X.shape[1]), indices)\n",
    "plt.xlim([-1, X.shape[1]])\n",
    "plt.show()\n"
   ]
  },
  {
   "cell_type": "code",
   "execution_count": null,
   "id": "d0f8e457",
   "metadata": {},
   "outputs": [],
   "source": []
  },
  {
   "cell_type": "markdown",
   "id": "cb047b84",
   "metadata": {},
   "source": [
    "# everything after this is just trash. Don't delete it though it contains soms valuable info :)"
   ]
  },
  {
   "cell_type": "code",
   "execution_count": null,
   "id": "9fa51c28",
   "metadata": {},
   "outputs": [],
   "source": [
    "## 4.1 Preprocessing - Select the Data you want preprocessed"
   ]
  },
  {
   "cell_type": "code",
   "execution_count": null,
   "id": "83ecfe22",
   "metadata": {},
   "outputs": [],
   "source": [
    "#Split comes later so I just use the supplimental data. If this is not correct. We can just change this code\n",
    "\n",
    "Use_only_supplimental = True"
   ]
  },
  {
   "cell_type": "code",
   "execution_count": null,
   "id": "816da1d8",
   "metadata": {},
   "outputs": [],
   "source": [
    "def preprocessing_supplimental():\n",
    "    if Use_only_supplimental == True:\n",
    "        print(\"yes\")\n",
    "    else:\n",
    "        print(\"No\")\n",
    "        \n",
    "        \n",
    "preprocessing_supplimental()"
   ]
  },
  {
   "cell_type": "code",
   "execution_count": null,
   "id": "9af98645",
   "metadata": {},
   "outputs": [],
   "source": [
    "data_time_check = supplimental_data['TimeUtc']\n",
    "print(data_time_check)"
   ]
  },
  {
   "cell_type": "markdown",
   "id": "1022694d",
   "metadata": {},
   "source": [
    "## 3.3 EDA - Unique ID's checking"
   ]
  },
  {
   "cell_type": "raw",
   "id": "e5fb2d43",
   "metadata": {},
   "source": [
    "#Seeing if ChatGpt can create something haha\n",
    "\n",
    "\n",
    "import pandas as pd\n",
    "from sklearn.ensemble import RandomForestClassifier\n",
    "from sklearn.model_selection import train_test_split\n",
    "from sklearn.metrics import accuracy_score\n",
    "import numpy as np\n",
    "\n",
    "# Assuming you have your data loaded into a DataFrame called \"supplemental_data\"\n",
    "# Replace this with your actual data loading code\n",
    "\n",
    "# Splitting data into features and target variable\n",
    "X = supplimental_data.drop(columns=['target_column'])\n",
    "y = supplimental_data['target_column']\n",
    "\n",
    "# Split data into train and test sets\n",
    "X_train, X_test, y_train, y_test = train_test_split(X, y, test_size=0.2, random_state=42)\n",
    "\n",
    "# Train a random forest classifier\n",
    "clf = RandomForestClassifier(random_state=42)\n",
    "clf.fit(X_train, y_train)\n",
    "\n",
    "# Get baseline accuracy\n",
    "baseline_accuracy = accuracy_score(y_test, clf.predict(X_test))\n",
    "print(\"Baseline Accuracy:\", baseline_accuracy)\n",
    "\n",
    "# Function to calculate accuracy after removing a feature\n",
    "def accuracy_after_removing_feature(X_train, X_test, y_train, y_test, feature_name):\n",
    "    feature_index = X_train.columns.get_loc(feature_name)\n",
    "    X_train_removed = X_train.drop(columns=[feature_name])\n",
    "    X_test_removed = X_test.drop(columns=[feature_name])\n",
    "    \n",
    "    clf_removed = RandomForestClassifier(random_state=42)\n",
    "    clf_removed.fit(X_train_removed, y_train)\n",
    "    \n",
    "    return accuracy_score(y_test, clf_removed.predict(X_test_removed))\n",
    "\n",
    "# Choose a feature to remove (e.g., the first feature)\n",
    "feature_to_remove = 'feature_name'\n",
    "\n",
    "# Calculate accuracy after removing the feature\n",
    "accuracy_after_removing = accuracy_after_removing_feature(X_train, X_test, y_train, y_test, feature_to_remove)\n",
    "print(f\"Accuracy after removing feature {feature_to_remove}: {accuracy_after_removing}\")\n"
   ]
  },
  {
   "cell_type": "code",
   "execution_count": null,
   "id": "a1aa69fe",
   "metadata": {},
   "outputs": [],
   "source": [
    "amount_of_id_train = train_data['UserID'].nunique()\n",
    "print(amount_of_id_train)\n",
    "\n",
    "amount_of_id_supplimental = supplimental_data['UserID'].nunique()\n",
    "print(amount_of_id_supplimental)"
   ]
  },
  {
   "cell_type": "code",
   "execution_count": null,
   "id": "76fae2ac",
   "metadata": {},
   "outputs": [],
   "source": [
    "# From the train data, there are 6451 ID's meaning 6451 UNIQUE ID's.\n",
    "# From the supplimental data, there are 5204 ID's meaning 5204 UNIQUE ID's."
   ]
  },
  {
   "cell_type": "code",
   "execution_count": null,
   "id": "5f4fb9b9",
   "metadata": {},
   "outputs": [],
   "source": [
    "mode_id_train = supplimental_data['UserID'].mode()[0]\n",
    "print(mode_id_train)\n",
    "\n",
    "#from the train data ID 2852 has the highest Mode\n",
    "#This also goes for the supplimental data"
   ]
  },
  {
   "cell_type": "code",
   "execution_count": null,
   "id": "36f85b52",
   "metadata": {},
   "outputs": [],
   "source": [
    "value_counts_p2852 = train_data['UserID'].value_counts()\n",
    "\n",
    "# Access the count for the specific value\n",
    "count_specific_value = value_counts_p2852.get('p2852', 0)  # 0 is returned if the value is not found\n",
    "\n",
    "print(\"Number of entries for 'p2852':\", count_specific_value)"
   ]
  },
  {
   "cell_type": "code",
   "execution_count": null,
   "id": "bd0d2fef",
   "metadata": {},
   "outputs": [],
   "source": [
    "import pandas as pd\n",
    "\n",
    "df = supplimental_data\n",
    "mode_user_id = df['UserID'].mode()[0]\n",
    "\n",
    "# Count the occurrences of each unique ID\n",
    "id_counts = df['UserID'].value_counts()\n",
    "\n",
    "# Count the number of IDs with 100 or more entries\n",
    "num_ids_100_or_more = (id_counts >= 10).sum()\n",
    "\n",
    "print(f\"This number of IDs have 100 or more entries in the column UserID: {num_ids_100_or_more}\")\n"
   ]
  },
  {
   "cell_type": "code",
   "execution_count": null,
   "id": "ed3ce523",
   "metadata": {},
   "outputs": [],
   "source": [
    "# The assingment states:\n",
    "# \"The data has more than one observation per person (over time), consider using that information.\"\n",
    "# So we have to see how this information can be used later since the most we can find is \"195\" for the highest ID count"
   ]
  },
  {
   "cell_type": "code",
   "execution_count": null,
   "id": "0f9893cb",
   "metadata": {},
   "outputs": [],
   "source": [
    "#Remove\n",
    "Answering_options_train_ = train_data['UserID'].nunique()"
   ]
  },
  {
   "cell_type": "markdown",
   "id": "d648d0b1",
   "metadata": {},
   "source": [
    "# 3.1 EDA - Normalizing/Standarizing/etc the Data\n"
   ]
  },
  {
   "cell_type": "code",
   "execution_count": null,
   "id": "570bb7aa",
   "metadata": {},
   "outputs": [],
   "source": [
    "# REMOVE THIS BLOCK\n",
    "# Maybe we can delete some features like the Questiontype?"
   ]
  },
  {
   "cell_type": "code",
   "execution_count": null,
   "id": "db985fbc",
   "metadata": {},
   "outputs": [],
   "source": [
    "missing_data = supplimental_data.isnull().sum()\n",
    "\n",
    "print(\"Missing data per column:\")\n",
    "print(missing_data)\n"
   ]
  },
  {
   "cell_type": "code",
   "execution_count": null,
   "id": "60cb3e15",
   "metadata": {},
   "outputs": [],
   "source": [
    "missing_data = train_data.isnull().sum()\n",
    "\n",
    "print(\"Missing data per column:\")\n",
    "print(missing_data)\n"
   ]
  },
  {
   "cell_type": "code",
   "execution_count": null,
   "id": "9bfd572a",
   "metadata": {},
   "outputs": [],
   "source": [
    "counts = train_data['LastTaskCompleted'].value_counts()\n",
    "\n",
    "# Display the counts per categorical value\n",
    "print(counts)"
   ]
  },
  {
   "cell_type": "code",
   "execution_count": null,
   "id": "ea4f8775",
   "metadata": {},
   "outputs": [],
   "source": [
    "# Optionally, you might want to reset the index for each DataFrame\n",
    "train_df.reset_index(drop=True, inplace=True)\n",
    "test_df.reset_index(drop=True, inplace=True)\n",
    "val_df.reset_index(drop=True, inplace=True)"
   ]
  }
 ],
 "metadata": {
  "kernelspec": {
   "display_name": "Python 3 (ipykernel)",
   "language": "python",
   "name": "python3"
  },
  "language_info": {
   "codemirror_mode": {
    "name": "ipython",
    "version": 3
   },
   "file_extension": ".py",
   "mimetype": "text/x-python",
   "name": "python",
   "nbconvert_exporter": "python",
   "pygments_lexer": "ipython3",
   "version": "3.11.7"
  }
 },
 "nbformat": 4,
 "nbformat_minor": 5
}
