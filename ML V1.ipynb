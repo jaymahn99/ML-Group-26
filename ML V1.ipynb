{
 "cells": [
  {
   "cell_type": "markdown",
   "id": "87957a5e",
   "metadata": {},
   "source": [
    "# ML Assignment (should be a py file before delivery)"
   ]
  },
  {
   "cell_type": "markdown",
   "id": "cf4f4514",
   "metadata": {},
   "source": [
    "## Names\n",
    "### Jay Mahn\n",
    "###\n",
    "###\n",
    "###"
   ]
  },
  {
   "cell_type": "markdown",
   "id": "a0f28693",
   "metadata": {},
   "source": [
    "# 1.0 Installing and loading the libraries"
   ]
  },
  {
   "cell_type": "code",
   "execution_count": 1,
   "id": "7679a25f",
   "metadata": {},
   "outputs": [],
   "source": [
    "# Pip install "
   ]
  },
  {
   "cell_type": "code",
   "execution_count": 2,
   "id": "a35ff2a4",
   "metadata": {},
   "outputs": [],
   "source": [
    "import numpy as np\n",
    "import pandas as pd "
   ]
  },
  {
   "cell_type": "markdown",
   "id": "82b883d3",
   "metadata": {},
   "source": [
    "# 2.0 Loading the files"
   ]
  },
  {
   "cell_type": "markdown",
   "id": "8ea9652d",
   "metadata": {},
   "source": [
    "## Load the various files"
   ]
  },
  {
   "cell_type": "code",
   "execution_count": 3,
   "id": "717ebbf7",
   "metadata": {},
   "outputs": [],
   "source": [
    "train_data = pd.read_csv(\"data/test_data.csv\")\n",
    "test_data = pd.read_csv(\"data/test_data.csv\")\n",
    "supplimental_data = pd.read_csv(\"data/supplimental_data.csv\")"
   ]
  },
  {
   "cell_type": "markdown",
   "id": "c8ca693a",
   "metadata": {},
   "source": [
    "## Making a back-up for safety"
   ]
  },
  {
   "cell_type": "code",
   "execution_count": 4,
   "id": "ffccc308",
   "metadata": {},
   "outputs": [],
   "source": [
    "train_data_B = train_data\n",
    "test_data_B = test_data\n",
    "supplimental_data_B = supplimental_data"
   ]
  },
  {
   "cell_type": "markdown",
   "id": "5b0ec315",
   "metadata": {},
   "source": [
    "# 3.0 EDA "
   ]
  },
  {
   "cell_type": "markdown",
   "id": "53031ea5",
   "metadata": {},
   "source": [
    "##  3.1 EDA - General info"
   ]
  },
  {
   "cell_type": "code",
   "execution_count": 5,
   "id": "2fd0a162",
   "metadata": {},
   "outputs": [
    {
     "name": "stdout",
     "output_type": "stream",
     "text": [
      "<class 'pandas.core.frame.DataFrame'>\n",
      "RangeIndex: 60832 entries, 0 to 60831\n",
      "Data columns (total 9 columns):\n",
      " #   Column                  Non-Null Count  Dtype  \n",
      "---  ------                  --------------  -----  \n",
      " 0   UserID                  60832 non-null  object \n",
      " 1   QuestionTiming          60832 non-null  object \n",
      " 2   TimeUtc                 60832 non-null  object \n",
      " 3   CurrentGameMode         50499 non-null  object \n",
      " 4   CurrentTask             50499 non-null  object \n",
      " 5   CurrentSessionLength    60832 non-null  int64  \n",
      " 6   LastTaskCompleted       24031 non-null  object \n",
      " 7   LevelProgressionAmount  50497 non-null  float64\n",
      " 8   QuestionType            60832 non-null  object \n",
      "dtypes: float64(1), int64(1), object(7)\n",
      "memory usage: 4.2+ MB\n"
     ]
    }
   ],
   "source": [
    "train_data.info()"
   ]
  },
  {
   "cell_type": "code",
   "execution_count": 6,
   "id": "2a752ba7",
   "metadata": {},
   "outputs": [
    {
     "data": {
      "text/html": [
       "<div>\n",
       "<style scoped>\n",
       "    .dataframe tbody tr th:only-of-type {\n",
       "        vertical-align: middle;\n",
       "    }\n",
       "\n",
       "    .dataframe tbody tr th {\n",
       "        vertical-align: top;\n",
       "    }\n",
       "\n",
       "    .dataframe thead th {\n",
       "        text-align: right;\n",
       "    }\n",
       "</style>\n",
       "<table border=\"1\" class=\"dataframe\">\n",
       "  <thead>\n",
       "    <tr style=\"text-align: right;\">\n",
       "      <th></th>\n",
       "      <th>UserID</th>\n",
       "      <th>QuestionTiming</th>\n",
       "      <th>TimeUtc</th>\n",
       "      <th>CurrentGameMode</th>\n",
       "      <th>CurrentTask</th>\n",
       "      <th>CurrentSessionLength</th>\n",
       "      <th>LastTaskCompleted</th>\n",
       "      <th>LevelProgressionAmount</th>\n",
       "      <th>QuestionType</th>\n",
       "    </tr>\n",
       "  </thead>\n",
       "  <tbody>\n",
       "    <tr>\n",
       "      <th>0</th>\n",
       "      <td>p1</td>\n",
       "      <td>System Initiated</td>\n",
       "      <td>2022-08-28 15:50:22</td>\n",
       "      <td>NaN</td>\n",
       "      <td>NaN</td>\n",
       "      <td>0</td>\n",
       "      <td>NaN</td>\n",
       "      <td>NaN</td>\n",
       "      <td>Wellbeing</td>\n",
       "    </tr>\n",
       "    <tr>\n",
       "      <th>1</th>\n",
       "      <td>p1</td>\n",
       "      <td>User Initiated</td>\n",
       "      <td>2022-08-28 16:05:02</td>\n",
       "      <td>Career</td>\n",
       "      <td>RECREATIONGROUND_SKATEPARK</td>\n",
       "      <td>14</td>\n",
       "      <td>NaN</td>\n",
       "      <td>0.563458</td>\n",
       "      <td>Wellbeing</td>\n",
       "    </tr>\n",
       "    <tr>\n",
       "      <th>2</th>\n",
       "      <td>p1</td>\n",
       "      <td>User Initiated</td>\n",
       "      <td>2022-09-07 03:31:50</td>\n",
       "      <td>NaN</td>\n",
       "      <td>NaN</td>\n",
       "      <td>0</td>\n",
       "      <td>NaN</td>\n",
       "      <td>NaN</td>\n",
       "      <td>Wellbeing</td>\n",
       "    </tr>\n",
       "    <tr>\n",
       "      <th>3</th>\n",
       "      <td>p1</td>\n",
       "      <td>System Initiated</td>\n",
       "      <td>2022-09-08 01:30:05</td>\n",
       "      <td>NaN</td>\n",
       "      <td>NaN</td>\n",
       "      <td>0</td>\n",
       "      <td>NaN</td>\n",
       "      <td>NaN</td>\n",
       "      <td>Wellbeing</td>\n",
       "    </tr>\n",
       "    <tr>\n",
       "      <th>4</th>\n",
       "      <td>p1</td>\n",
       "      <td>System Initiated</td>\n",
       "      <td>2022-09-08 01:43:45</td>\n",
       "      <td>Career</td>\n",
       "      <td>RECREATIONGROUND_SKATEPARK</td>\n",
       "      <td>13</td>\n",
       "      <td>NaN</td>\n",
       "      <td>0.829827</td>\n",
       "      <td>Wellbeing</td>\n",
       "    </tr>\n",
       "  </tbody>\n",
       "</table>\n",
       "</div>"
      ],
      "text/plain": [
       "  UserID    QuestionTiming              TimeUtc CurrentGameMode  \\\n",
       "0     p1  System Initiated  2022-08-28 15:50:22             NaN   \n",
       "1     p1    User Initiated  2022-08-28 16:05:02          Career   \n",
       "2     p1    User Initiated  2022-09-07 03:31:50             NaN   \n",
       "3     p1  System Initiated  2022-09-08 01:30:05             NaN   \n",
       "4     p1  System Initiated  2022-09-08 01:43:45          Career   \n",
       "\n",
       "                  CurrentTask  CurrentSessionLength LastTaskCompleted  \\\n",
       "0                         NaN                     0               NaN   \n",
       "1  RECREATIONGROUND_SKATEPARK                    14               NaN   \n",
       "2                         NaN                     0               NaN   \n",
       "3                         NaN                     0               NaN   \n",
       "4  RECREATIONGROUND_SKATEPARK                    13               NaN   \n",
       "\n",
       "   LevelProgressionAmount QuestionType  \n",
       "0                     NaN    Wellbeing  \n",
       "1                0.563458    Wellbeing  \n",
       "2                     NaN    Wellbeing  \n",
       "3                     NaN    Wellbeing  \n",
       "4                0.829827    Wellbeing  "
      ]
     },
     "execution_count": 6,
     "metadata": {},
     "output_type": "execute_result"
    }
   ],
   "source": [
    "train_data.head()"
   ]
  },
  {
   "cell_type": "code",
   "execution_count": 7,
   "id": "4e883a76",
   "metadata": {},
   "outputs": [
    {
     "name": "stdout",
     "output_type": "stream",
     "text": [
      "<class 'pandas.core.frame.DataFrame'>\n",
      "RangeIndex: 60832 entries, 0 to 60831\n",
      "Data columns (total 9 columns):\n",
      " #   Column                  Non-Null Count  Dtype  \n",
      "---  ------                  --------------  -----  \n",
      " 0   UserID                  60832 non-null  object \n",
      " 1   QuestionTiming          60832 non-null  object \n",
      " 2   TimeUtc                 60832 non-null  object \n",
      " 3   CurrentGameMode         50499 non-null  object \n",
      " 4   CurrentTask             50499 non-null  object \n",
      " 5   CurrentSessionLength    60832 non-null  int64  \n",
      " 6   LastTaskCompleted       24031 non-null  object \n",
      " 7   LevelProgressionAmount  50497 non-null  float64\n",
      " 8   QuestionType            60832 non-null  object \n",
      "dtypes: float64(1), int64(1), object(7)\n",
      "memory usage: 4.2+ MB\n"
     ]
    }
   ],
   "source": [
    "test_data.info()"
   ]
  },
  {
   "cell_type": "code",
   "execution_count": 8,
   "id": "990a8958",
   "metadata": {},
   "outputs": [
    {
     "data": {
      "text/html": [
       "<div>\n",
       "<style scoped>\n",
       "    .dataframe tbody tr th:only-of-type {\n",
       "        vertical-align: middle;\n",
       "    }\n",
       "\n",
       "    .dataframe tbody tr th {\n",
       "        vertical-align: top;\n",
       "    }\n",
       "\n",
       "    .dataframe thead th {\n",
       "        text-align: right;\n",
       "    }\n",
       "</style>\n",
       "<table border=\"1\" class=\"dataframe\">\n",
       "  <thead>\n",
       "    <tr style=\"text-align: right;\">\n",
       "      <th></th>\n",
       "      <th>UserID</th>\n",
       "      <th>QuestionTiming</th>\n",
       "      <th>TimeUtc</th>\n",
       "      <th>CurrentGameMode</th>\n",
       "      <th>CurrentTask</th>\n",
       "      <th>CurrentSessionLength</th>\n",
       "      <th>LastTaskCompleted</th>\n",
       "      <th>LevelProgressionAmount</th>\n",
       "      <th>QuestionType</th>\n",
       "    </tr>\n",
       "  </thead>\n",
       "  <tbody>\n",
       "    <tr>\n",
       "      <th>0</th>\n",
       "      <td>p1</td>\n",
       "      <td>System Initiated</td>\n",
       "      <td>2022-08-28 15:50:22</td>\n",
       "      <td>NaN</td>\n",
       "      <td>NaN</td>\n",
       "      <td>0</td>\n",
       "      <td>NaN</td>\n",
       "      <td>NaN</td>\n",
       "      <td>Wellbeing</td>\n",
       "    </tr>\n",
       "    <tr>\n",
       "      <th>1</th>\n",
       "      <td>p1</td>\n",
       "      <td>User Initiated</td>\n",
       "      <td>2022-08-28 16:05:02</td>\n",
       "      <td>Career</td>\n",
       "      <td>RECREATIONGROUND_SKATEPARK</td>\n",
       "      <td>14</td>\n",
       "      <td>NaN</td>\n",
       "      <td>0.563458</td>\n",
       "      <td>Wellbeing</td>\n",
       "    </tr>\n",
       "    <tr>\n",
       "      <th>2</th>\n",
       "      <td>p1</td>\n",
       "      <td>User Initiated</td>\n",
       "      <td>2022-09-07 03:31:50</td>\n",
       "      <td>NaN</td>\n",
       "      <td>NaN</td>\n",
       "      <td>0</td>\n",
       "      <td>NaN</td>\n",
       "      <td>NaN</td>\n",
       "      <td>Wellbeing</td>\n",
       "    </tr>\n",
       "    <tr>\n",
       "      <th>3</th>\n",
       "      <td>p1</td>\n",
       "      <td>System Initiated</td>\n",
       "      <td>2022-09-08 01:30:05</td>\n",
       "      <td>NaN</td>\n",
       "      <td>NaN</td>\n",
       "      <td>0</td>\n",
       "      <td>NaN</td>\n",
       "      <td>NaN</td>\n",
       "      <td>Wellbeing</td>\n",
       "    </tr>\n",
       "    <tr>\n",
       "      <th>4</th>\n",
       "      <td>p1</td>\n",
       "      <td>System Initiated</td>\n",
       "      <td>2022-09-08 01:43:45</td>\n",
       "      <td>Career</td>\n",
       "      <td>RECREATIONGROUND_SKATEPARK</td>\n",
       "      <td>13</td>\n",
       "      <td>NaN</td>\n",
       "      <td>0.829827</td>\n",
       "      <td>Wellbeing</td>\n",
       "    </tr>\n",
       "  </tbody>\n",
       "</table>\n",
       "</div>"
      ],
      "text/plain": [
       "  UserID    QuestionTiming              TimeUtc CurrentGameMode  \\\n",
       "0     p1  System Initiated  2022-08-28 15:50:22             NaN   \n",
       "1     p1    User Initiated  2022-08-28 16:05:02          Career   \n",
       "2     p1    User Initiated  2022-09-07 03:31:50             NaN   \n",
       "3     p1  System Initiated  2022-09-08 01:30:05             NaN   \n",
       "4     p1  System Initiated  2022-09-08 01:43:45          Career   \n",
       "\n",
       "                  CurrentTask  CurrentSessionLength LastTaskCompleted  \\\n",
       "0                         NaN                     0               NaN   \n",
       "1  RECREATIONGROUND_SKATEPARK                    14               NaN   \n",
       "2                         NaN                     0               NaN   \n",
       "3                         NaN                     0               NaN   \n",
       "4  RECREATIONGROUND_SKATEPARK                    13               NaN   \n",
       "\n",
       "   LevelProgressionAmount QuestionType  \n",
       "0                     NaN    Wellbeing  \n",
       "1                0.563458    Wellbeing  \n",
       "2                     NaN    Wellbeing  \n",
       "3                     NaN    Wellbeing  \n",
       "4                0.829827    Wellbeing  "
      ]
     },
     "execution_count": 8,
     "metadata": {},
     "output_type": "execute_result"
    }
   ],
   "source": [
    "test_data.head()"
   ]
  },
  {
   "cell_type": "code",
   "execution_count": 9,
   "id": "8c2c3fdf",
   "metadata": {},
   "outputs": [
    {
     "name": "stdout",
     "output_type": "stream",
     "text": [
      "<class 'pandas.core.frame.DataFrame'>\n",
      "RangeIndex: 294726 entries, 0 to 294725\n",
      "Data columns (total 10 columns):\n",
      " #   Column                  Non-Null Count   Dtype  \n",
      "---  ------                  --------------   -----  \n",
      " 0   UserID                  294726 non-null  object \n",
      " 1   QuestionTiming          294726 non-null  object \n",
      " 2   TimeUtc                 294726 non-null  object \n",
      " 3   CurrentGameMode         294726 non-null  object \n",
      " 4   CurrentTask             294726 non-null  object \n",
      " 5   CurrentSessionLength    294726 non-null  int64  \n",
      " 6   LastTaskCompleted       166724 non-null  object \n",
      " 7   LevelProgressionAmount  294726 non-null  float64\n",
      " 8   QuestionType            294726 non-null  object \n",
      " 9   ResponseValue           294726 non-null  float64\n",
      "dtypes: float64(2), int64(1), object(7)\n",
      "memory usage: 22.5+ MB\n"
     ]
    }
   ],
   "source": [
    "supplimental_data.info()"
   ]
  },
  {
   "cell_type": "code",
   "execution_count": 10,
   "id": "c70b32e4",
   "metadata": {},
   "outputs": [
    {
     "data": {
      "text/html": [
       "<div>\n",
       "<style scoped>\n",
       "    .dataframe tbody tr th:only-of-type {\n",
       "        vertical-align: middle;\n",
       "    }\n",
       "\n",
       "    .dataframe tbody tr th {\n",
       "        vertical-align: top;\n",
       "    }\n",
       "\n",
       "    .dataframe thead th {\n",
       "        text-align: right;\n",
       "    }\n",
       "</style>\n",
       "<table border=\"1\" class=\"dataframe\">\n",
       "  <thead>\n",
       "    <tr style=\"text-align: right;\">\n",
       "      <th></th>\n",
       "      <th>UserID</th>\n",
       "      <th>QuestionTiming</th>\n",
       "      <th>TimeUtc</th>\n",
       "      <th>CurrentGameMode</th>\n",
       "      <th>CurrentTask</th>\n",
       "      <th>CurrentSessionLength</th>\n",
       "      <th>LastTaskCompleted</th>\n",
       "      <th>LevelProgressionAmount</th>\n",
       "      <th>QuestionType</th>\n",
       "      <th>ResponseValue</th>\n",
       "    </tr>\n",
       "  </thead>\n",
       "  <tbody>\n",
       "    <tr>\n",
       "      <th>0</th>\n",
       "      <td>p1</td>\n",
       "      <td>System Initiated</td>\n",
       "      <td>2022-08-19 00:02:01</td>\n",
       "      <td>Career</td>\n",
       "      <td>RESIDENTIALSMALL_BACKYARD</td>\n",
       "      <td>7</td>\n",
       "      <td>NaN</td>\n",
       "      <td>0.726184</td>\n",
       "      <td>Focus</td>\n",
       "      <td>790.0</td>\n",
       "    </tr>\n",
       "    <tr>\n",
       "      <th>1</th>\n",
       "      <td>p1</td>\n",
       "      <td>System Initiated</td>\n",
       "      <td>2022-08-19 00:08:47</td>\n",
       "      <td>Career</td>\n",
       "      <td>RESIDENTIALSMALL_BACKYARD</td>\n",
       "      <td>13</td>\n",
       "      <td>NaN</td>\n",
       "      <td>0.834437</td>\n",
       "      <td>Focus</td>\n",
       "      <td>794.0</td>\n",
       "    </tr>\n",
       "    <tr>\n",
       "      <th>2</th>\n",
       "      <td>p1</td>\n",
       "      <td>System Initiated</td>\n",
       "      <td>2022-08-19 18:21:49</td>\n",
       "      <td>Special</td>\n",
       "      <td>MARS_MARSROVER</td>\n",
       "      <td>7</td>\n",
       "      <td>WASH_AlienHatch</td>\n",
       "      <td>1.000000</td>\n",
       "      <td>Focus</td>\n",
       "      <td>770.0</td>\n",
       "    </tr>\n",
       "    <tr>\n",
       "      <th>3</th>\n",
       "      <td>p1</td>\n",
       "      <td>System Initiated</td>\n",
       "      <td>2022-08-19 18:50:40</td>\n",
       "      <td>Career</td>\n",
       "      <td>RECREATIONGROUND_PLAYGROUND</td>\n",
       "      <td>36</td>\n",
       "      <td>WASH_Roundabout</td>\n",
       "      <td>0.250897</td>\n",
       "      <td>Enjoyment</td>\n",
       "      <td>743.0</td>\n",
       "    </tr>\n",
       "    <tr>\n",
       "      <th>4</th>\n",
       "      <td>p1</td>\n",
       "      <td>System Initiated</td>\n",
       "      <td>2022-08-19 20:17:25</td>\n",
       "      <td>Career</td>\n",
       "      <td>RECREATIONGROUND_PLAYGROUND</td>\n",
       "      <td>7</td>\n",
       "      <td>WASH_Stegoslide</td>\n",
       "      <td>0.351545</td>\n",
       "      <td>Focus</td>\n",
       "      <td>817.0</td>\n",
       "    </tr>\n",
       "  </tbody>\n",
       "</table>\n",
       "</div>"
      ],
      "text/plain": [
       "  UserID    QuestionTiming              TimeUtc CurrentGameMode  \\\n",
       "0     p1  System Initiated  2022-08-19 00:02:01          Career   \n",
       "1     p1  System Initiated  2022-08-19 00:08:47          Career   \n",
       "2     p1  System Initiated  2022-08-19 18:21:49         Special   \n",
       "3     p1  System Initiated  2022-08-19 18:50:40          Career   \n",
       "4     p1  System Initiated  2022-08-19 20:17:25          Career   \n",
       "\n",
       "                   CurrentTask  CurrentSessionLength LastTaskCompleted  \\\n",
       "0    RESIDENTIALSMALL_BACKYARD                     7               NaN   \n",
       "1    RESIDENTIALSMALL_BACKYARD                    13               NaN   \n",
       "2               MARS_MARSROVER                     7   WASH_AlienHatch   \n",
       "3  RECREATIONGROUND_PLAYGROUND                    36   WASH_Roundabout   \n",
       "4  RECREATIONGROUND_PLAYGROUND                     7   WASH_Stegoslide   \n",
       "\n",
       "   LevelProgressionAmount QuestionType  ResponseValue  \n",
       "0                0.726184        Focus          790.0  \n",
       "1                0.834437        Focus          794.0  \n",
       "2                1.000000        Focus          770.0  \n",
       "3                0.250897    Enjoyment          743.0  \n",
       "4                0.351545        Focus          817.0  "
      ]
     },
     "execution_count": 10,
     "metadata": {},
     "output_type": "execute_result"
    }
   ],
   "source": [
    "supplimental_data.head()"
   ]
  },
  {
   "cell_type": "code",
   "execution_count": 11,
   "id": "da46d888",
   "metadata": {},
   "outputs": [],
   "source": [
    "# test and train data are the same \n",
    "# So supplimental data has 1 feature more called ResponseValue"
   ]
  },
  {
   "cell_type": "markdown",
   "id": "cd416e10",
   "metadata": {},
   "source": [
    "## 3.2 EDA - Checking for Categorical values"
   ]
  },
  {
   "cell_type": "code",
   "execution_count": 12,
   "id": "b7e28cd3",
   "metadata": {},
   "outputs": [],
   "source": [
    "# Possible Categorical values include:\n",
    "# QuestionTiming\n",
    "# CurrentGameMode\n",
    "# CurrentTask\n",
    "# QuestionType\n",
    "# LastTaskCompleted"
   ]
  },
  {
   "cell_type": "markdown",
   "id": "44447856",
   "metadata": {},
   "source": [
    "### 3.2.1 EDA - QuestionTiming"
   ]
  },
  {
   "cell_type": "code",
   "execution_count": 13,
   "id": "38edcf02",
   "metadata": {},
   "outputs": [
    {
     "name": "stdout",
     "output_type": "stream",
     "text": [
      "['System Initiated', 'User Initiated']\n"
     ]
    }
   ],
   "source": [
    "# Step 1: Get unique values from the column\n",
    "categorical_test = train_data['QuestionTiming'].unique()\n",
    "\n",
    "# Step 2: Filter out 'double' values (assuming 'double' means numerical values represented as strings)\n",
    "filtered_values = [value for value in categorical_test if not value.replace('.', '', 1).isdigit()]\n",
    "\n",
    "# Step 3: Convert filtered values to a list\n",
    "filtered_values_list = list(filtered_values)\n",
    "\n",
    "# Step 4: Print the list\n",
    "print(filtered_values_list)"
   ]
  },
  {
   "cell_type": "code",
   "execution_count": 14,
   "id": "5135ff3b",
   "metadata": {},
   "outputs": [],
   "source": [
    "# Two answers should mean this should not have to be dummy encoded since it's binairy"
   ]
  },
  {
   "cell_type": "markdown",
   "id": "db6f5c3d",
   "metadata": {},
   "source": [
    "### 3.2.2 EDA - CurentGameMode"
   ]
  },
  {
   "cell_type": "code",
   "execution_count": 15,
   "id": "60f7ed51",
   "metadata": {},
   "outputs": [
    {
     "name": "stdout",
     "output_type": "stream",
     "text": [
      "['Career', 'FreePlay', 'Special', 'Challenge']\n"
     ]
    }
   ],
   "source": [
    "unique_values = train_data['CurrentGameMode'].unique()\n",
    "# Filter out non-string values and convert to string\n",
    "filtered_values = [str(value) for value in unique_values if not isinstance(value, float)]\n",
    "filtered_values_list = list(filtered_values)\n",
    "print(filtered_values_list)"
   ]
  },
  {
   "cell_type": "code",
   "execution_count": 16,
   "id": "a8f78b13",
   "metadata": {},
   "outputs": [],
   "source": [
    "# Four answers should mean this can be dummy encoded to 4, no order."
   ]
  },
  {
   "cell_type": "markdown",
   "id": "dcdbce2f",
   "metadata": {},
   "source": [
    "### 3.2.3 EDA - CurrentTask"
   ]
  },
  {
   "cell_type": "code",
   "execution_count": 17,
   "id": "c149d88d",
   "metadata": {},
   "outputs": [
    {
     "name": "stdout",
     "output_type": "stream",
     "text": [
      "['RECREATIONGROUND_SKATEPARK', 'NATIONALPARK_STORYBOOKHOUSE', 'FIRESTATION_FIRESTATION', 'HOME_VAN', 'RESIDENTIALSMALL_BACKYARD', 'SUBWAY_SUBWAYPLATFORM', 'DESERT_ANCIENTHAND', 'MARINA_FISHINGBOAT', 'DESERT_UFO', 'SEATEMPLE', 'RECREATIONGROUND_PLAYGROUND', 'RESIDENTIALSMALL_BUNGALOW', 'HOME_PENNYFARTHING', 'FIRESTATION_FIRETRUCK', 'RECREATIONGROUND_MINIGOLF', 'HOME_GOLFCART', 'MANSION_FRONT', 'FAIRGROUND_MERRYGOROUND', 'NATIONALPARK_TREEHOUSE', 'COUNTRYSIDE_TEMPLE', 'SUBWAY_SUBWAYWASHROOM', 'RESIDENTIALSMALL_RACINGCAR', 'HOME_MOTORBIKESIDECAR', 'HOME_SUV', 'SUBURBIA_DETACHEDHOUSE', 'NATIONALPARK_SHOEHOUSE', 'SUBURBIA_CAMPERVAN', 'HOME_DRILL', 'FAIRGROUND_HELTERSKELTER', 'AIRPORT_PRIVATEJET', 'HANGAR_MONSTERTRUCK', 'FAIRGROUND_BIGWHEEL', 'MANSION_FROLICBOAT', 'FAIRGROUND_FORTUNETELLERCARAVAN', 'DESERT_ANCIENTSTATUE', 'HANGAR_STUNTPLANE', 'FIRESTATION_FIREHELICOPTER', 'HOME_DIRTBIKE', 'DESERT_STEAMLOCOMOTIVE', 'SUBURBIA_VINTAGECAR', 'MARS_MARSROVER', 'RECREATIONGROUND_FOUNTAIN', 'TIME_RESIDENTIALSMALL_BACKYARD', 'WATER_HOME_DIRTBIKE', 'TIME_RESIDENTIALSMALL_BUNGALOW', 'WATER_AIRPORT_STUNTPLANE', 'WATER_FIRESTATION_FIRETRUCK', 'WATER_HOME_GOLFCART', 'TIME_HOME_VAN', 'TIME_SUBURBIA_VINTAGECAR']\n"
     ]
    }
   ],
   "source": [
    "unique_values = train_data['CurrentTask'].unique()\n",
    "filtered_values = [str(value) for value in unique_values if not isinstance(value, float)]\n",
    "filtered_values_list = list(filtered_values)\n",
    "print(filtered_values_list)"
   ]
  },
  {
   "cell_type": "code",
   "execution_count": 18,
   "id": "014f61f4",
   "metadata": {},
   "outputs": [],
   "source": [
    "# Lots of values, not smart to dummy encode, another option is needed."
   ]
  },
  {
   "cell_type": "markdown",
   "id": "039a5a0f",
   "metadata": {},
   "source": [
    "### 3.2.4 EDA - QuestionType"
   ]
  },
  {
   "cell_type": "code",
   "execution_count": 19,
   "id": "6a1d51e5",
   "metadata": {},
   "outputs": [
    {
     "name": "stdout",
     "output_type": "stream",
     "text": [
      "['Wellbeing']\n"
     ]
    }
   ],
   "source": [
    "unique_values = train_data['QuestionType'].unique()\n",
    "filtered_values = [str(value) for value in unique_values if not isinstance(value, float)]\n",
    "filtered_values_list = list(filtered_values)\n",
    "print(filtered_values_list)"
   ]
  },
  {
   "cell_type": "code",
   "execution_count": 20,
   "id": "f7a1cbc8",
   "metadata": {},
   "outputs": [
    {
     "name": "stdout",
     "output_type": "stream",
     "text": [
      "True\n"
     ]
    }
   ],
   "source": [
    "are_all_same = len(unique_values) == 1\n",
    "print(are_all_same)"
   ]
  },
  {
   "cell_type": "code",
   "execution_count": 21,
   "id": "fe05206a",
   "metadata": {},
   "outputs": [],
   "source": [
    "# In the train/test these are the same in supplemental these are:"
   ]
  },
  {
   "cell_type": "code",
   "execution_count": 22,
   "id": "d49c0521",
   "metadata": {},
   "outputs": [
    {
     "name": "stdout",
     "output_type": "stream",
     "text": [
      "['Focus', 'Enjoyment', 'Immersion', 'Autonomy', 'Competence']\n"
     ]
    }
   ],
   "source": [
    "unique_values = supplimental_data['QuestionType'].unique()\n",
    "filtered_values = [str(value) for value in unique_values if not isinstance(value, float)]\n",
    "filtered_values_list = list(filtered_values)\n",
    "print(filtered_values_list)"
   ]
  },
  {
   "cell_type": "markdown",
   "id": "5ec56d10",
   "metadata": {},
   "source": [
    "### 3.2.4 EDA - LastTaskCompleted"
   ]
  },
  {
   "cell_type": "code",
   "execution_count": 23,
   "id": "ab306997",
   "metadata": {},
   "outputs": [
    {
     "name": "stdout",
     "output_type": "stream",
     "text": [
      "['WASH_SkatePark', 'WASH_VintageCar', 'WASH_PWVan', 'WASH_StuntPlane', 'WASH_UFO', 'WASH_ShoeHouse', 'WASH_StoryBookCottage', 'WASH_80sRacingCar', 'WASH_SUV', 'WASH_PennyFarthing', 'WASH_Roundabout', 'WASH_GolfCart', 'WASH_FireHelicopter', 'WASH_MerryGoRound', 'WASH_Temple', 'WASH_MotorbikeSidecar', 'WASH_FireTruck', 'WASH_FireStation', 'WASH_Bench', 'WASH_Drill', 'WASH_PlaygroundFloor', 'WASH_FrolicBoat', 'WASH_MonsterTruck', 'WASH_MarsRover', 'WASH_PrivateJet', 'WASH_FortuneTellerCaravan', 'WASH_Marina_FishingBoat', 'WASH_CamperVan', 'WASH_Mansion', 'WASH_SubwayWashroom', 'WASH_DirtBike', 'WASH_Stegoslide', 'WASH_SubwayPlatform', 'WASH_BigWheel_01', 'WASH_AncientHand', 'WASH_SeaTemple', 'WASH_ClimbingFrame', 'WASH_AlienHatch', 'WASH_Bungalow', 'WASH_DetachedHouse', 'WASHABLE', 'WASH_SteamLocomotive', 'WASH_Bench_02', 'WASH_Bench_01', 'WASH_TreeHouse', 'WASH_Fountain', 'WASH_Backyard', 'WASH_AncientStatue', 'WASH_HelterSkelter', 'WASH_Bin_01', 'WASH_Bin']\n"
     ]
    }
   ],
   "source": [
    "unique_values = train_data['LastTaskCompleted'].unique()\n",
    "filtered_values = [str(value) for value in unique_values if not isinstance(value, float)]\n",
    "filtered_values_list = list(filtered_values)\n",
    "print(filtered_values_list)"
   ]
  },
  {
   "cell_type": "code",
   "execution_count": 24,
   "id": "8f68480c",
   "metadata": {},
   "outputs": [],
   "source": [
    "# Lots of values, not smart to dummy encode, another option is needed."
   ]
  },
  {
   "cell_type": "markdown",
   "id": "9f8295cb",
   "metadata": {},
   "source": [
    "## 3.3 EDA - Unique ID's checking"
   ]
  },
  {
   "cell_type": "code",
   "execution_count": 25,
   "id": "0b5d51af",
   "metadata": {},
   "outputs": [
    {
     "name": "stdout",
     "output_type": "stream",
     "text": [
      "6451\n",
      "5204\n"
     ]
    }
   ],
   "source": [
    "amount_of_id_train = train_data['UserID'].nunique()\n",
    "print(amount_of_id_train)\n",
    "\n",
    "amount_of_id_supplimental = supplimental_data['UserID'].nunique()\n",
    "print(amount_of_id_supplimental)"
   ]
  },
  {
   "cell_type": "code",
   "execution_count": 26,
   "id": "a3f9bc98",
   "metadata": {},
   "outputs": [],
   "source": [
    "# From the train data, there are 6451 ID's meaning 6451 UNIQUE ID's.\n",
    "# From the supplimental data, there are 5204 ID's meaning 5204 UNIQUE ID's."
   ]
  },
  {
   "cell_type": "code",
   "execution_count": 27,
   "id": "de38714e",
   "metadata": {},
   "outputs": [
    {
     "name": "stdout",
     "output_type": "stream",
     "text": [
      "p2852\n"
     ]
    }
   ],
   "source": [
    "mode_id_train = supplimental_data['UserID'].mode()[0]\n",
    "print(mode_id_train)\n",
    "\n",
    "#from the train data ID 2852 has the highest Mode\n",
    "#This also goes for the supplimental data"
   ]
  },
  {
   "cell_type": "code",
   "execution_count": 28,
   "id": "1a3d28c2",
   "metadata": {},
   "outputs": [
    {
     "name": "stdout",
     "output_type": "stream",
     "text": [
      "Number of entries for 'p2852': 195\n"
     ]
    }
   ],
   "source": [
    "value_counts_p2852 = train_data['UserID'].value_counts()\n",
    "\n",
    "# Access the count for the specific value\n",
    "count_specific_value = value_counts_p2852.get('p2852', 0)  # 0 is returned if the value is not found\n",
    "\n",
    "print(\"Number of entries for 'p2852':\", count_specific_value)"
   ]
  },
  {
   "cell_type": "code",
   "execution_count": 29,
   "id": "615a3b04",
   "metadata": {},
   "outputs": [],
   "source": [
    "# The assingment states:\n",
    "# \"The data has more than one observation per person (over time), consider using that information.\"\n",
    "# So we have to see how this information can be used later since the most we can find is \"195\" for the highest ID count"
   ]
  },
  {
   "cell_type": "code",
   "execution_count": 30,
   "id": "ac3af359",
   "metadata": {},
   "outputs": [],
   "source": [
    "#Remove\n",
    "Answering_options_train_ = train_data['UserID'].nunique()"
   ]
  },
  {
   "cell_type": "markdown",
   "id": "da4dc845",
   "metadata": {},
   "source": [
    "# 3.1 EDA - Normalizing/Standarizing/etc the Data\n"
   ]
  },
  {
   "cell_type": "code",
   "execution_count": 31,
   "id": "f20046b0",
   "metadata": {},
   "outputs": [],
   "source": [
    "# REMOVE THIS BLOCK\n",
    "# Maybe we can delete some features like the Questiontype?"
   ]
  }
 ],
 "metadata": {
  "kernelspec": {
   "display_name": "Python 3 (ipykernel)",
   "language": "python",
   "name": "python3"
  },
  "language_info": {
   "codemirror_mode": {
    "name": "ipython",
    "version": 3
   },
   "file_extension": ".py",
   "mimetype": "text/x-python",
   "name": "python",
   "nbconvert_exporter": "python",
   "pygments_lexer": "ipython3",
   "version": "3.11.7"
  }
 },
 "nbformat": 4,
 "nbformat_minor": 5
}
